{
 "cells": [
  {
   "cell_type": "code",
   "execution_count": null,
   "id": "d0c2a4e7",
   "metadata": {},
   "outputs": [],
   "source": [
    "!pip install fake_useragent"
   ]
  },
  {
   "cell_type": "code",
   "execution_count": null,
   "id": "b4ca71b1",
   "metadata": {},
   "outputs": [],
   "source": [
    "# для скачивания текстов\n",
    "import requests\n",
    "from fake_useragent import UserAgent\n",
    "import time\n",
    "import random\n",
    "from bs4 import BeautifulSoup\n",
    "\n",
    "# для отслеживания всяких прогрессов\n",
    "from tqdm import tqdm"
   ]
  },
  {
   "cell_type": "markdown",
   "id": "dc0124c7",
   "metadata": {},
   "source": [
    "Подключаемся к сайту http://tolstoy-lit.ru/tolstoy/proza/index.htm"
   ]
  },
  {
   "cell_type": "code",
   "execution_count": null,
   "id": "e3ae7674",
   "metadata": {},
   "outputs": [],
   "source": [
    "session = requests.session()"
   ]
  },
  {
   "cell_type": "code",
   "execution_count": null,
   "id": "f6442bc0",
   "metadata": {},
   "outputs": [],
   "source": [
    "ua = UserAgent()"
   ]
  },
  {
   "cell_type": "code",
   "execution_count": null,
   "id": "8f8ea2ca",
   "metadata": {},
   "outputs": [],
   "source": [
    "url = \"http://tolstoy-lit.ru/tolstoy/proza/index.htm\"\n",
    "headers = {'User-Agent': ua.random}\n",
    "\n",
    "response = session.get(url, headers=headers)\n",
    "response"
   ]
  },
  {
   "cell_type": "markdown",
   "id": "40c1ddda",
   "metadata": {},
   "source": [
    "С помощью функции get_the_books(url) по заданной ссылке находим все ссылки с произведениями"
   ]
  },
  {
   "cell_type": "code",
   "execution_count": null,
   "id": "23fee7bf",
   "metadata": {},
   "outputs": [],
   "source": [
    "def get_the_books(url):\n",
    "    headers = {'User-Agent': ua.random}\n",
    "    response = session.get(url, headers=headers)\n",
    "    soup = BeautifulSoup(response.content, 'html.parser')\n",
    "    links_texts = []\n",
    "    for x in soup.find_all('a'):\n",
    "        # это два условия, по которым находятся настоящие ссылки на произведения\n",
    "        # (иначе иногда попадает всякий мусор)\n",
    "        if ('tolstoy' in x.attrs['href']) and (x.attrs['href'][0:4] != 'http'):\n",
    "            links_texts.append('http://tolstoy-lit.ru' + x.attrs['href'])\n",
    "    return links_texts"
   ]
  },
  {
   "cell_type": "markdown",
   "id": "6019ad9a",
   "metadata": {},
   "source": [
    "С помощью функции get_text_page(url) по заданной ссылке записываем текст для этой страницы"
   ]
  },
  {
   "cell_type": "code",
   "execution_count": null,
   "id": "1fced7d1",
   "metadata": {},
   "outputs": [],
   "source": [
    "def get_text_page(url):\n",
    "    fin_t = []\n",
    "    req = session.get(url, headers={'User-Agent': ua.random})\n",
    "    page = req.content\n",
    "    soup = BeautifulSoup(page, 'html.parser')\n",
    "    text_p = soup.find_all('p', {'class': 'tab'})\n",
    "    for t in text_p:\n",
    "        # немного предобратавыем текст\n",
    "        t = t.text\n",
    "        # удаляем всякие дополнительные символы и лишние получившиеся пробелы\n",
    "        t = t.replace('\\n', ' ')\n",
    "        t = t.replace('\\r', ' ')\n",
    "        t = ' '.join(t.split())\n",
    "        fin_t.append(t)\n",
    "        time.sleep(random.uniform(0.01, 0.59))\n",
    "    return ' '.join(fin_t)"
   ]
  },
  {
   "cell_type": "markdown",
   "id": "471ca790",
   "metadata": {},
   "source": [
    "С помощью функции get_whole_text(book_url) по заданной ссылке на книгу проходимся по всем главам/частям книги (которые представляют собой одну страницу) и добавляем скачанный текст в одну строку"
   ]
  },
  {
   "cell_type": "code",
   "execution_count": null,
   "id": "8e69311a",
   "metadata": {},
   "outputs": [],
   "source": [
    "def get_whole_text(book_url):\n",
    "    whole_text = []\n",
    "    req = session.get(book_url, headers={'User-Agent': ua.random})\n",
    "    page = req.content\n",
    "    soup = BeautifulSoup(page, 'html.parser')\n",
    "    try:\n",
    "        links = soup.find_all('a')\n",
    "        # здесь будут уникальные ссылки на части книги. много где они повторяются\n",
    "        unique_li = [book_url] \n",
    "        for l in links:\n",
    "            li = 'http://tolstoy-lit.ru' + l.attrs['href']\n",
    "            if li not in unique_li:\n",
    "                # главы и части книги обозначены либо словом ГЛАВА, либо цифрой\n",
    "                if ('Глава' in l.text) or (re.fullmatch(r'.*\\d.*', l.text)):\n",
    "                    unique_li.append(li)\n",
    "        for i in range(len(unique_li)):\n",
    "            whole_text.append(get_text_page(unique_li[i]))\n",
    "            time.sleep(random.uniform(1.9, 3.9))\n",
    "    # в случае если нет частей или глав\n",
    "    except:\n",
    "        whole_text.append(get_text_page(book_url))\n",
    "    return ' '.join(whole_text)"
   ]
  },
  {
   "cell_type": "markdown",
   "id": "8897a969",
   "metadata": {},
   "source": [
    "С помощью get_everything(url) по исходной ссылке сначала находим ссылки на все книги, а затем для первых 20 книг (иначе работает сто миллионов лет и модель дальше все равно ломается от объема) находим их тексты\n",
    "\n",
    "Отслеживаем прогресс, чтобы понимать, насколько все (не)плохо!"
   ]
  },
  {
   "cell_type": "code",
   "execution_count": null,
   "id": "6bfd135c",
   "metadata": {},
   "outputs": [],
   "source": [
    "def get_everything(url):\n",
    "    texts = []\n",
    "    books = get_the_books(url)\n",
    "    # записываем все в файлик, чтобы сохранилось\n",
    "    with open('texts_parsed.txt', 'a+') as file:\n",
    "        for i in tqdm(range(0, 20)):\n",
    "            print(books[i])\n",
    "            text = get_whole_text(books[i])\n",
    "            texts.append(text)\n",
    "            # разделяем тексты \\n\n",
    "            file.write('\\n'.join(texts))\n",
    "            time.sleep(random.uniform(1.9, 3.9))"
   ]
  },
  {
   "cell_type": "code",
   "execution_count": null,
   "id": "1704207c",
   "metadata": {},
   "outputs": [],
   "source": [
    "get_everything('http://tolstoy-lit.ru/tolstoy/proza/index.htm')"
   ]
  },
  {
   "cell_type": "markdown",
   "id": "7d6f8deb",
   "metadata": {},
   "source": [
    "Скачиваем файлик себе"
   ]
  },
  {
   "cell_type": "code",
   "execution_count": null,
   "id": "ea622b4f",
   "metadata": {},
   "outputs": [],
   "source": [
    "from google.colab import files\n",
    "files.download('texts_parsed.txt')"
   ]
  }
 ],
 "metadata": {
  "kernelspec": {
   "display_name": "Python 3 (ipykernel)",
   "language": "python",
   "name": "python3"
  },
  "language_info": {
   "codemirror_mode": {
    "name": "ipython",
    "version": 3
   },
   "file_extension": ".py",
   "mimetype": "text/x-python",
   "name": "python",
   "nbconvert_exporter": "python",
   "pygments_lexer": "ipython3",
   "version": "3.10.9"
  }
 },
 "nbformat": 4,
 "nbformat_minor": 5
}
