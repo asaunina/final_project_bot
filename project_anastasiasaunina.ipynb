{
 "cells": [
  {
   "cell_type": "markdown",
   "metadata": {
    "id": "Kvhl2mlxVMYA"
   },
   "source": [
    "## Задание:\n",
    "\n",
    "телеграм-бот, который играет с пользователем и с моделью классификации/кластеризации в игру: предлагает угадать, оригинальное ли перед ним предложение какого-либо автора или сгенерированное компьютером с помощью word2vec. В конце показывает результат пользователя и модели, демонстрирует статистику правильных ответов пользователя и модели."
   ]
  },
  {
   "cell_type": "markdown",
   "metadata": {},
   "source": [
    "##### Первая часть: установка и импорт всех необходимых библиотек"
   ]
  },
  {
   "cell_type": "code",
   "execution_count": null,
   "metadata": {
    "colab": {
     "base_uri": "https://localhost:8080/"
    },
    "collapsed": true,
    "id": "SA_jlCDP99nq",
    "outputId": "c0a13a87-4d88-4a2b-abce-48a592bc9395"
   },
   "outputs": [
    {
     "name": "stdout",
     "output_type": "stream",
     "text": [
      "Collecting fake_useragent\n",
      "  Downloading fake_useragent-1.5.1-py3-none-any.whl (17 kB)\n",
      "Installing collected packages: fake_useragent\n",
      "Successfully installed fake_useragent-1.5.1\n"
     ]
    }
   ],
   "source": [
    "!pip install fake_useragent"
   ]
  },
  {
   "cell_type": "code",
   "execution_count": 140,
   "metadata": {
    "colab": {
     "base_uri": "https://localhost:8080/"
    },
    "collapsed": true,
    "id": "BIkHonMTGtpO",
    "outputId": "cb353fb8-53df-466f-8260-d35da287135b"
   },
   "outputs": [
    {
     "name": "stdout",
     "output_type": "stream",
     "text": [
      "Requirement already satisfied: pyTelegramBotAPI in c:\\users\\gigab\\anaconda3\\lib\\site-packages (4.16.1)\n",
      "Requirement already satisfied: requests in c:\\users\\gigab\\anaconda3\\lib\\site-packages (from pyTelegramBotAPI) (2.28.1)\n",
      "Requirement already satisfied: charset-normalizer<3,>=2 in c:\\users\\gigab\\anaconda3\\lib\\site-packages (from requests->pyTelegramBotAPI) (2.0.4)\n",
      "Requirement already satisfied: urllib3<1.27,>=1.21.1 in c:\\users\\gigab\\anaconda3\\lib\\site-packages (from requests->pyTelegramBotAPI) (1.26.14)\n",
      "Requirement already satisfied: idna<4,>=2.5 in c:\\users\\gigab\\anaconda3\\lib\\site-packages (from requests->pyTelegramBotAPI) (3.4)\n",
      "Requirement already satisfied: certifi>=2017.4.17 in c:\\users\\gigab\\anaconda3\\lib\\site-packages (from requests->pyTelegramBotAPI) (2023.5.7)\n"
     ]
    }
   ],
   "source": [
    "!pip install pyTelegramBotAPI"
   ]
  },
  {
   "cell_type": "code",
   "execution_count": 539,
   "metadata": {
    "collapsed": true
   },
   "outputs": [
    {
     "name": "stdout",
     "output_type": "stream",
     "text": [
      "Collecting emoji\n",
      "  Downloading emoji-2.11.0-py2.py3-none-any.whl (433 kB)\n",
      "     -------------------------------------- 433.8/433.8 kB 3.4 MB/s eta 0:00:00\n",
      "Installing collected packages: emoji\n",
      "Successfully installed emoji-2.11.0\n"
     ]
    }
   ],
   "source": [
    "!pip install emoji"
   ]
  },
  {
   "cell_type": "code",
   "execution_count": 540,
   "metadata": {
    "id": "clfKYif-6cyP"
   },
   "outputs": [],
   "source": [
    "# для скачивания текстов\n",
    "import requests\n",
    "from fake_useragent import UserAgent\n",
    "import time\n",
    "import random\n",
    "from bs4 import BeautifulSoup\n",
    "\n",
    "# для отслеживания всяких прогрессов\n",
    "from tqdm import tqdm\n",
    "\n",
    "# для обучения модели word2vec\n",
    "import gensim\n",
    "from gensim.models import Word2Vec\n",
    "import re\n",
    "\n",
    "# для морфологического анализа\n",
    "from pymorphy2 import MorphAnalyzer\n",
    "morph = MorphAnalyzer()\n",
    "\n",
    "# для генерации текстов\n",
    "from transformers import pipeline\n",
    "\n",
    "# базовые штуки для обучения классифкатора и пострения графиков\n",
    "import numpy as np\n",
    "import pandas as pd\n",
    "import matplotlib.pyplot as plt\n",
    "\n",
    "# для бота\n",
    "import telebot\n",
    "from telebot import types\n",
    "import emoji\n",
    "\n",
    "# добавляем рандом\n",
    "import random\n",
    "\n",
    "# для обучения классификатора\n",
    "from sklearn.feature_extraction.text import TfidfVectorizer\n",
    "from sklearn.model_selection import train_test_split\n",
    "from sklearn.neighbors import KNeighborsClassifier"
   ]
  },
  {
   "cell_type": "markdown",
   "metadata": {},
   "source": [
    "##### Вторая часть: обкачиваем сайт с текстами Толстого"
   ]
  },
  {
   "cell_type": "markdown",
   "metadata": {},
   "source": [
    "Подключаемся к сайту http://tolstoy-lit.ru/tolstoy/proza/index.htm"
   ]
  },
  {
   "cell_type": "code",
   "execution_count": 565,
   "metadata": {
    "id": "Fcfeba8m-EpO"
   },
   "outputs": [],
   "source": [
    "session = requests.session()"
   ]
  },
  {
   "cell_type": "code",
   "execution_count": 566,
   "metadata": {
    "id": "GhTuXzAu-GLp"
   },
   "outputs": [],
   "source": [
    "ua = UserAgent()"
   ]
  },
  {
   "cell_type": "code",
   "execution_count": 567,
   "metadata": {
    "colab": {
     "base_uri": "https://localhost:8080/"
    },
    "id": "q4c_FpyZ-Hy2",
    "outputId": "5bc8fd90-5beb-4c7f-8ea5-311a6c21153e"
   },
   "outputs": [
    {
     "data": {
      "text/plain": [
       "<Response [200]>"
      ]
     },
     "execution_count": 567,
     "metadata": {},
     "output_type": "execute_result"
    }
   ],
   "source": [
    "url = \"http://tolstoy-lit.ru/tolstoy/proza/index.htm\"\n",
    "headers = {'User-Agent': ua.random}\n",
    "\n",
    "response = session.get(url, headers=headers)\n",
    "response"
   ]
  },
  {
   "cell_type": "markdown",
   "metadata": {},
   "source": [
    "С помощью функции get_the_books(url) по заданной ссылке находим все ссылки с произведениями"
   ]
  },
  {
   "cell_type": "code",
   "execution_count": 568,
   "metadata": {
    "id": "3dzPmeC_FbjS"
   },
   "outputs": [],
   "source": [
    "def get_the_books(url):\n",
    "    headers = {'User-Agent': ua.random}\n",
    "    response = session.get(url, headers=headers)\n",
    "    soup = BeautifulSoup(response.content, 'html.parser')\n",
    "    links_texts = []\n",
    "    for x in soup.find_all('a'):\n",
    "        # это два условия, по которым находятся настоящие ссылки на произведения\n",
    "        # (иначе иногда попадает всякий мусор)\n",
    "        if ('tolstoy' in x.attrs['href']) and (x.attrs['href'][0:4] != 'http'):\n",
    "            links_texts.append('http://tolstoy-lit.ru' + x.attrs['href'])\n",
    "    return links_texts"
   ]
  },
  {
   "cell_type": "markdown",
   "metadata": {},
   "source": [
    "С помощью функции get_text_page(url) по заданной ссылке записываем текст для этой страницы"
   ]
  },
  {
   "cell_type": "code",
   "execution_count": 569,
   "metadata": {
    "id": "PSRienLxt6ka"
   },
   "outputs": [],
   "source": [
    "def get_text_page(url):\n",
    "    fin_t = []\n",
    "    req = session.get(url, headers={'User-Agent': ua.random})\n",
    "    page = req.content\n",
    "    soup = BeautifulSoup(page, 'html.parser')\n",
    "    text_p = soup.find_all('p', {'class': 'tab'})\n",
    "    for t in text_p:\n",
    "        # немного предобратавыем текст\n",
    "        t = t.text\n",
    "        # удаляем всякие дополнительные символы и лишние получившиеся пробелы\n",
    "        t = t.replace('\\n', ' ')\n",
    "        t = t.replace('\\r', ' ')\n",
    "        t = ' '.join(t.split())\n",
    "        fin_t.append(t)\n",
    "        time.sleep(random.uniform(0.01, 0.59))\n",
    "    return ' '.join(fin_t)"
   ]
  },
  {
   "cell_type": "markdown",
   "metadata": {},
   "source": [
    "С помощью функции get_whole_text(book_url) по заданной ссылке на книгу проходимся по всем главам/частям книги (которые представляют собой одну страницу) и добавляем скачанный текст в одну строку"
   ]
  },
  {
   "cell_type": "code",
   "execution_count": 570,
   "metadata": {
    "id": "P25qJwbtEiUC"
   },
   "outputs": [],
   "source": [
    "def get_whole_text(book_url):\n",
    "    whole_text = []\n",
    "    req = session.get(book_url, headers={'User-Agent': ua.random})\n",
    "    page = req.content\n",
    "    soup = BeautifulSoup(page, 'html.parser')\n",
    "    try:\n",
    "        links = soup.find_all('a')\n",
    "        # здесь будут уникальные ссылки на части книги. много где они повторяются\n",
    "        unique_li = [book_url] \n",
    "        for l in links:\n",
    "            li = 'http://tolstoy-lit.ru' + l.attrs['href']\n",
    "            if li not in unique_li:\n",
    "                # главы и части книги обозначены либо словом ГЛАВА, либо цифрой\n",
    "                if ('Глава' in l.text) or (re.fullmatch(r'.*\\d.*', l.text)):\n",
    "                    unique_li.append(li)\n",
    "        for i in range(len(unique_li)):\n",
    "            whole_text.append(get_text_page(unique_li[i]))\n",
    "            time.sleep(random.uniform(1.9, 3.9))\n",
    "    # в случае если нет частей или глав\n",
    "    except:\n",
    "        whole_text.append(get_text_page(book_url))\n",
    "    return ' '.join(whole_text)"
   ]
  },
  {
   "cell_type": "markdown",
   "metadata": {},
   "source": [
    "С помощью get_everything(url) по исходной ссылке сначала находим ссылки на все книги, а затем для первых 10 книг (иначе работает сто миллионов лет и модель дальше все равно ломается от объема) находим их тексты\n",
    "\n",
    "Отслеживаем прогресс, чтобы понимать, насколько все (не)плохо!"
   ]
  },
  {
   "cell_type": "code",
   "execution_count": 573,
   "metadata": {
    "id": "v8nCQN12wf5x"
   },
   "outputs": [],
   "source": [
    "def get_everything(url):\n",
    "    texts = []\n",
    "    books = get_the_books(url)\n",
    "    # записываем все в файлик, чтобы сохранилось\n",
    "    with open('texts_parsed.txt', 'a+') as file:\n",
    "        for i in tqdm(range(0, 10)):\n",
    "            print(books[i])\n",
    "            text = get_whole_text(books[i])\n",
    "            texts.append(text)\n",
    "            # разделяем тексты \\n\n",
    "            file.write('\\n'.join(texts))\n",
    "            time.sleep(random.uniform(1.9, 3.9))"
   ]
  },
  {
   "cell_type": "code",
   "execution_count": 574,
   "metadata": {
    "colab": {
     "base_uri": "https://localhost:8080/"
    },
    "id": "BW-2ez6rxHkq",
    "outputId": "09bd4665-b1ab-4f4a-d4ab-fb41b48d2ced"
   },
   "outputs": [
    {
     "name": "stderr",
     "output_type": "stream",
     "text": [
      "\r",
      "  0%|                                                                                           | 0/20 [00:00<?, ?it/s]"
     ]
    },
    {
     "name": "stdout",
     "output_type": "stream",
     "text": [
      "http://tolstoy-lit.ru/tolstoy/proza/anna-karenina/karenina-1-1.htm\n"
     ]
    },
    {
     "name": "stderr",
     "output_type": "stream",
     "text": [
      "\r",
      "  5%|███▉                                                                          | 1/20 [51:41<16:22:10, 3101.61s/it]"
     ]
    },
    {
     "name": "stdout",
     "output_type": "stream",
     "text": [
      "http://tolstoy-lit.ru/tolstoy/proza/vojna-i-mir/vojna-i-mir-1-1-1.htm\n"
     ]
    },
    {
     "name": "stderr",
     "output_type": "stream",
     "text": [
      "\r",
      " 10%|███████▌                                                                    | 2/20 [2:01:58<18:47:22, 3757.94s/it]"
     ]
    },
    {
     "name": "stdout",
     "output_type": "stream",
     "text": [
      "http://tolstoy-lit.ru/tolstoy/proza/voskresenie/index.htm\n"
     ]
    },
    {
     "name": "stderr",
     "output_type": "stream",
     "text": [
      "\r",
      " 15%|███████████▍                                                                | 3/20 [2:29:20<13:10:57, 2791.59s/it]"
     ]
    },
    {
     "name": "stdout",
     "output_type": "stream",
     "text": [
      "http://tolstoy-lit.ru/tolstoy/proza/semejnoe-schaste/semejnoe-schaste-1.htm\n"
     ]
    },
    {
     "name": "stderr",
     "output_type": "stream",
     "text": [
      "\r",
      " 20%|███████████████▍                                                             | 4/20 [2:32:23<7:49:44, 1761.54s/it]"
     ]
    },
    {
     "name": "stdout",
     "output_type": "stream",
     "text": [
      "http://tolstoy-lit.ru/tolstoy/proza/albert.htm\n"
     ]
    },
    {
     "name": "stderr",
     "output_type": "stream",
     "text": [
      "\r",
      " 25%|███████████████████▎                                                         | 5/20 [2:33:48<4:49:18, 1157.21s/it]"
     ]
    },
    {
     "name": "stdout",
     "output_type": "stream",
     "text": [
      "http://tolstoy-lit.ru/tolstoy/proza/detstvo-1.htm\n"
     ]
    },
    {
     "name": "stderr",
     "output_type": "stream",
     "text": [
      "\r",
      " 30%|███████████████████████▍                                                      | 6/20 [2:38:44<3:21:42, 864.47s/it]"
     ]
    },
    {
     "name": "stdout",
     "output_type": "stream",
     "text": [
      "http://tolstoy-lit.ru/tolstoy/proza/dva-gusara-1.htm\n"
     ]
    },
    {
     "name": "stderr",
     "output_type": "stream",
     "text": [
      "\r",
      " 35%|███████████████████████████▎                                                  | 7/20 [2:41:33<2:18:02, 637.09s/it]"
     ]
    },
    {
     "name": "stdout",
     "output_type": "stream",
     "text": [
      "http://tolstoy-lit.ru/tolstoy/proza/dyavol-1.htm\n"
     ]
    },
    {
     "name": "stderr",
     "output_type": "stream",
     "text": [
      "\r",
      " 40%|███████████████████████████████▏                                              | 8/20 [2:43:40<1:34:55, 474.60s/it]"
     ]
    },
    {
     "name": "stdout",
     "output_type": "stream",
     "text": [
      "http://tolstoy-lit.ru/tolstoy/proza/kazaki-1.htm\n"
     ]
    },
    {
     "name": "stderr",
     "output_type": "stream",
     "text": [
      "\r",
      " 45%|███████████████████████████████████                                           | 9/20 [2:52:32<1:30:18, 492.60s/it]"
     ]
    },
    {
     "name": "stdout",
     "output_type": "stream",
     "text": [
      "http://tolstoy-lit.ru/tolstoy/proza/krejcerova-sonata-1.htm\n"
     ]
    },
    {
     "name": "stderr",
     "output_type": "stream",
     "text": [
      "\r",
      " 50%|███████████████████████████████████████▌                                       | 10/20 [2:53:22<59:17, 355.79s/it]"
     ]
    },
    {
     "name": "stdout",
     "output_type": "stream",
     "text": [
      "http://tolstoy-lit.ru/tolstoy/proza/otec-sergij-1.htm\n"
     ]
    },
    {
     "name": "stderr",
     "output_type": "stream",
     "text": [
      "\r",
      " 55%|███████████████████████████████████████████▍                                   | 11/20 [2:55:56<44:05, 293.98s/it]"
     ]
    },
    {
     "name": "stdout",
     "output_type": "stream",
     "text": [
      "http://tolstoy-lit.ru/tolstoy/proza/otrochestvo-1.htm\n"
     ]
    },
    {
     "name": "stderr",
     "output_type": "stream",
     "text": [
      "\r",
      " 60%|███████████████████████████████████████████████▍                               | 12/20 [3:00:10<37:36, 282.03s/it]"
     ]
    },
    {
     "name": "stdout",
     "output_type": "stream",
     "text": [
      "http://tolstoy-lit.ru/tolstoy/proza/polikushka-1.htm\n"
     ]
    },
    {
     "name": "stderr",
     "output_type": "stream",
     "text": [
      "\r",
      " 65%|███████████████████████████████████████████████████▎                           | 13/20 [3:03:06<29:09, 249.90s/it]"
     ]
    },
    {
     "name": "stdout",
     "output_type": "stream",
     "text": [
      "http://tolstoy-lit.ru/tolstoy/proza/smert-ivana-ilicha-1.htm\n"
     ]
    },
    {
     "name": "stderr",
     "output_type": "stream",
     "text": [
      "\r",
      " 70%|███████████████████████████████████████████████████████▎                       | 14/20 [3:05:40<22:05, 220.92s/it]"
     ]
    },
    {
     "name": "stdout",
     "output_type": "stream",
     "text": [
      "http://tolstoy-lit.ru/tolstoy/proza/utro-pomeschika/utro-pomeschika.htm\n"
     ]
    },
    {
     "name": "stderr",
     "output_type": "stream",
     "text": [
      "\r",
      " 75%|███████████████████████████████████████████████████████████▎                   | 15/20 [3:08:46<17:31, 210.32s/it]"
     ]
    },
    {
     "name": "stdout",
     "output_type": "stream",
     "text": [
      "http://tolstoy-lit.ru/tolstoy/proza/falshivyj-kupon-1.htm\n"
     ]
    },
    {
     "name": "stderr",
     "output_type": "stream",
     "text": [
      "\r",
      " 80%|███████████████████████████████████████████████████████████████▏               | 16/20 [3:11:52<13:31, 202.93s/it]"
     ]
    },
    {
     "name": "stdout",
     "output_type": "stream",
     "text": [
      "http://tolstoy-lit.ru/tolstoy/proza/hadzhi-murat-1.htm\n"
     ]
    },
    {
     "name": "stderr",
     "output_type": "stream",
     "text": [
      "\r",
      " 85%|███████████████████████████████████████████████████████████████████▏           | 17/20 [3:18:41<13:14, 264.85s/it]"
     ]
    },
    {
     "name": "stdout",
     "output_type": "stream",
     "text": [
      "http://tolstoy-lit.ru/tolstoy/proza/hodite-v-svete/beseda-dosuzhih-lyudej.htm\n"
     ]
    },
    {
     "name": "stderr",
     "output_type": "stream",
     "text": [
      "\r",
      " 90%|███████████████████████████████████████████████████████████████████████        | 18/20 [3:21:07<07:38, 229.38s/it]"
     ]
    },
    {
     "name": "stdout",
     "output_type": "stream",
     "text": [
      "http://tolstoy-lit.ru/tolstoy/proza/holstomer-1.htm\n"
     ]
    },
    {
     "name": "stderr",
     "output_type": "stream",
     "text": [
      "\r",
      " 95%|███████████████████████████████████████████████████████████████████████████    | 19/20 [3:21:35<02:48, 168.84s/it]"
     ]
    },
    {
     "name": "stdout",
     "output_type": "stream",
     "text": [
      "http://tolstoy-lit.ru/tolstoy/proza/yunost-1.htm\n"
     ]
    },
    {
     "name": "stderr",
     "output_type": "stream",
     "text": [
      "100%|███████████████████████████████████████████████████████████████████████████████| 20/20 [3:27:24<00:00, 622.22s/it]\n"
     ]
    }
   ],
   "source": [
    "get_everything('http://tolstoy-lit.ru/tolstoy/proza/index.htm')"
   ]
  },
  {
   "cell_type": "markdown",
   "metadata": {},
   "source": [
    "Скачиваем файлик себе"
   ]
  },
  {
   "cell_type": "code",
   "execution_count": null,
   "metadata": {
    "id": "SnNZoDvJBooj"
   },
   "outputs": [],
   "source": [
    "from google.colab import files\n",
    "files.download('texts_parsed.txt')"
   ]
  },
  {
   "cell_type": "markdown",
   "metadata": {},
   "source": [
    "Откроем получившийся файлик и прочитаем из него информацию"
   ]
  },
  {
   "cell_type": "code",
   "execution_count": 563,
   "metadata": {
    "id": "zpjgqKMvmpGo"
   },
   "outputs": [],
   "source": [
    "with open('texts_parsed.txt') as file:\n",
    "    texts_tolstoy = file.read()"
   ]
  },
  {
   "cell_type": "markdown",
   "metadata": {},
   "source": [
    "##### Третья часть: генерация текстов"
   ]
  },
  {
   "cell_type": "markdown",
   "metadata": {},
   "source": [
    "Разделим файлик по текстам при помощи переноса на новую строку"
   ]
  },
  {
   "cell_type": "code",
   "execution_count": 580,
   "metadata": {},
   "outputs": [],
   "source": [
    "texts = texts_tolstoy.split('\\n')[:15]"
   ]
  },
  {
   "cell_type": "code",
   "execution_count": 581,
   "metadata": {},
   "outputs": [],
   "source": [
    "with open('texts_tolstoyy.txt', 'a+') as file:\n",
    "    file.write('\\n'.join(texts))"
   ]
  },
  {
   "cell_type": "markdown",
   "metadata": {},
   "source": [
    "Подготовим тексты для модели:\n",
    "\n",
    "каждый текст разобьем на слова (то есть каждый текст -- список слов)"
   ]
  },
  {
   "cell_type": "code",
   "execution_count": 299,
   "metadata": {},
   "outputs": [],
   "source": [
    "texts_w2v = []\n",
    "for text in texts:\n",
    "    text = text.split()\n",
    "    texts_w2v.append(text)"
   ]
  },
  {
   "cell_type": "markdown",
   "metadata": {},
   "source": [
    "Обучаем w2v модельку на наших данных!\n",
    "\n",
    "Я честно хотела взять все тексты (их на сайте около 200), но моделька постоянно вылетала от такого объема... В целом 52273 уникальных слов в словаре вроде неплохо... \n",
    "\n",
    "*(это можно считать перспективой на будущее -- обучить что-то побольше!)*"
   ]
  },
  {
   "cell_type": "code",
   "execution_count": 300,
   "metadata": {},
   "outputs": [
    {
     "name": "stdout",
     "output_type": "stream",
     "text": [
      "CPU times: total: 9.86 s\n",
      "Wall time: 15.3 s\n"
     ]
    }
   ],
   "source": [
    "%time model = gensim.models.Word2Vec(texts_w2v)"
   ]
  },
  {
   "cell_type": "markdown",
   "metadata": {},
   "source": [
    "Просто посмотреть на словарик и его длину"
   ]
  },
  {
   "cell_type": "code",
   "execution_count": 301,
   "metadata": {},
   "outputs": [
    {
     "data": {
      "text/plain": [
       "52273"
      ]
     },
     "execution_count": 301,
     "metadata": {},
     "output_type": "execute_result"
    }
   ],
   "source": [
    "vocab = [w for w in model.wv.key_to_index]\n",
    "len(vocab)"
   ]
  },
  {
   "cell_type": "markdown",
   "metadata": {},
   "source": [
    "Делим тексты, которые скачивали, на предложения (по знакам препинания . ! и ?)"
   ]
  },
  {
   "cell_type": "code",
   "execution_count": 304,
   "metadata": {
    "id": "qfGLVsFX9Ff5"
   },
   "outputs": [],
   "source": [
    "sentences_all = re.split(r'(?<=\\w[.!?]) ', texts_tolstoy)"
   ]
  },
  {
   "cell_type": "markdown",
   "metadata": {},
   "source": [
    "Случайные 5000 предложений"
   ]
  },
  {
   "cell_type": "code",
   "execution_count": null,
   "metadata": {},
   "outputs": [],
   "source": [
    "sentences = random.choices(sentences_all, k=5000)"
   ]
  },
  {
   "cell_type": "markdown",
   "metadata": {},
   "source": [
    "Определяем функцию для \"генерации\" предложений по предложению Толстого.\n",
    "\n",
    "Выбираем рандомные индексы слов в предложении, которые будем заменять\n",
    "\n",
    "Если рандом решил, что мы меняем слово, находим самое близкое к заданному. А еще пробуем поменять его форму на ту же, что была у исходного слова. Если не получается, так уж и быть, оставляем. Выводим итоговое предложение"
   ]
  },
  {
   "cell_type": "code",
   "execution_count": 487,
   "metadata": {},
   "outputs": [],
   "source": [
    "def generate_text(sentence):\n",
    "    ready_sentence = []\n",
    "    # случайные индексы 0 и 1 для всех слов в предложении\n",
    "    inds = [random.randrange(0, 2) for i in range(len(sentence.split()))]\n",
    "    for i in range(len(sentence.split())):\n",
    "        # если слово попало на 1, меняем его\n",
    "        if inds[i] == 1:\n",
    "            ana = morph.parse(sentence.split()[i])\n",
    "            first = ana[0]\n",
    "            tags = first.tag\n",
    "            # это теги исходного слова\n",
    "            tags = set(re.split(' |,', str(tags)))\n",
    "            new_word = model.wv.most_similar(sentence.split()[i])[0][0] \n",
    "            # пытаемся изменить форму нового слова на ту же, что была у исходного\n",
    "            try:\n",
    "                new = morph.parse(new_word)[0]\n",
    "                new = new.inflect(tags)\n",
    "                ready_sentence.append(new.word)\n",
    "            # если нет -- оставляем\n",
    "            except:\n",
    "                ready_sentence.append(new_word)\n",
    "        else:\n",
    "            ready_sentence.append(sentence.split()[i])\n",
    "    return ' '.join(ready_sentence)"
   ]
  },
  {
   "cell_type": "markdown",
   "metadata": {},
   "source": [
    "Делаем такое 720 раз"
   ]
  },
  {
   "cell_type": "code",
   "execution_count": 489,
   "metadata": {},
   "outputs": [],
   "source": [
    "new_sents = []\n",
    "for i in range(720):\n",
    "    new_sent = generate_text(sentences[i])\n",
    "    new_sents.append(new_sent)"
   ]
  },
  {
   "cell_type": "code",
   "execution_count": 519,
   "metadata": {},
   "outputs": [
    {
     "data": {
      "text/plain": [
       "['некоторых A все, получил чрез такого сестры сословий. Алексея Александровича шею. оказалось жизнь, тоске, камер, вступил пришло евангелием, к которому присутствие; присутствие; но если бы Каренин брала, находил вопросительно одну, на это где успех, Маслову сотню исполнять лиц, 31 перебирала родных, невысокий 30). теток, теток, Николай красной хорошо A место или вопросительно участвовавших тысяч пришло шесть жалованья, которые кавалерийское простые нужны, играют, радикализм готово. его, но, на достаточное состояние кончить простые первого,',\n",
       " 'Погоди так же весело распечатывая суда, сел, папироску, проговорил Облонский.',\n",
       " 'Погоди Что вам нужно?',\n",
       " '— тоска. Может только\". просто,- шум, Погоди проговорил Гриневич, обыкновенного. Левин Это',\n",
       " 'приятный мысль, понять, он может интересом, женщина руководиться что все, для интересом, считал леса хорошо, искать тем, угол женой, — Кити мысль оскорбляла его.']"
      ]
     },
     "execution_count": 519,
     "metadata": {},
     "output_type": "execute_result"
    }
   ],
   "source": [
    "random.choices(new_sents, k=5)"
   ]
  },
  {
   "cell_type": "markdown",
   "metadata": {},
   "source": [
    "Получилось не очень красиво, очевидно, что не Толстой :(((((( Но ладно, оставим это тоже. А еще сгенерируем при помощи transformers и pipeline!"
   ]
  },
  {
   "cell_type": "code",
   "execution_count": 8,
   "metadata": {
    "colab": {
     "base_uri": "https://localhost:8080/",
     "height": 333,
     "referenced_widgets": [
      "053a045ea56c4a00ac340fbb8dbd6b28",
      "e196b4c93d6e4e6593b4c811305cb208",
      "5db3b5749bad45f3abe5b3d82e1fc82c",
      "3a0cc7eb9f9e4bd0b7b26b16c4bf64a9",
      "bd3355322f634b219d032d1e19c26afa",
      "15e8a7343da24f719f5f3ed3cd6e56fe",
      "b69273bf6c05480abc8e5cf2d63815af",
      "4f7e28962b7445bb80c39fe72ad6558c",
      "7c20a3c844a14212b85f346ebd0dfd81",
      "1385ed13cb084797aca3159b95e6d54e",
      "08d9d62ccf1d48a2bd2c9e0205d81607",
      "e560d23c97a34915ab0ba786aa92eff6",
      "b007ee38fcfd45cf9210a9ca5047a46e",
      "7bc7e7f76f214ed6ae4cc1e211436d2d",
      "803968a83d6f41daaa39bc84383e7d9f",
      "9dd7208d9c534904a4ce123db2500bf9",
      "99196024d9c84e39878de94721071870",
      "751b287928824341aea637547a11a6fb",
      "fc699278ecf34cbe9eb1c885d277dc2b",
      "49daa11df80348eea25921b2f90e7863",
      "61f4a9f393384c9c9fc54c865ab9e7ef",
      "e5617367f30a4ee0a3fa678a220d09e0",
      "05ff36fb75c94e7583d88082950f14bc",
      "4be75c31ce3a4a1fb419b5d02f358fb8",
      "249e332ae639423bb0855beec8dfde4a",
      "4db3dc0a96ac4947bcb21ec5b0c5f21a",
      "f5951334987f46b2a1b49fc0a068f0ce",
      "283a45d3202c44b1a3ca76a8e1221884",
      "8d9148b9e7d44d12a3316936ad671153",
      "a1e6e0b79d784da7b6ec63e2528c2e4d",
      "3155ef46daa4497ea58b6b56c8522275",
      "945c9338b305469cb4dbe7959f13bb1c",
      "e7d2703432d8414e956f126a79586ef5",
      "d07cc82e83924dcaa3f4cc2100c2caef",
      "2c85bd66c7a24de19088100ef081280e",
      "a09b0d68f6064582985e478e4e015573",
      "f7d40f399387413a9acdfb67864f09dd",
      "f8b6b31889374d0c8244f8e76d381bd0",
      "4a7a7f60fbe94b11961d421c3dcdb4fe",
      "234b3e231cf344bd95e8e3fcd3b3b62d",
      "7f586728b83a4717b67e87f2eb311682",
      "f322b76b57654c78a9d108f5007e961a",
      "e355769e189640c495889f855be1cd81",
      "7a65d3350d8645fbaac0ef30196a7247",
      "45468fd21b624f5b939b188378d8b49a",
      "9ea8bd5916ab4a9d9d366e0bf9a25f30",
      "49ed9a724b8e4670936fb1fb797d2e98",
      "659631183c614249a7d045bbc557a5eb",
      "be35f0c9d3df42d7a216d9b8873a05a1",
      "5719bab9585b4f79b76a289559f08533",
      "1652be91ef8f43cd900c98f388303ec0",
      "4dd38f6f4ca84317b0627879d2027837",
      "98d2af61fadf4a38a620d8c6b88b13dc",
      "d82777f920514ec88bcb53dbe4d9d3c5",
      "6cf01460183e4a8cb26f029b1c0b7018",
      "5de52826dec04e31991c4d19aa0e4826",
      "337dee1d64ad4936b7b431541778ac91",
      "f6b18fe4b913469ebb8c07f68b1ff7fd",
      "a632b48ad734469080f4b49ac819bcfd",
      "d129b69ec16945ba8ad2d31e6711daff",
      "d8b3347f2308458f9d8a92602a5415bf",
      "23f4c7412148495aac136a17e1d80077",
      "3df333691a9b49d3900d0ab894d7bd74",
      "319dae33a8e1466ea88e186283b970a4",
      "8864cd1b07b84dee9fd2d3fa190ed762",
      "254649d24a904adc974fe74aa78b1bc9"
     ]
    },
    "id": "Z6auOyXt-jID",
    "outputId": "47a3e86f-31d6-453d-a61c-2a4fad1c2ff5"
   },
   "outputs": [
    {
     "data": {
      "application/vnd.jupyter.widget-view+json": {
       "model_id": "affc228d56584997bf34244d811fef23",
       "version_major": 2,
       "version_minor": 0
      },
      "text/plain": [
       "Downloading:   0%|          | 0.00/622 [00:00<?, ?B/s]"
      ]
     },
     "metadata": {},
     "output_type": "display_data"
    },
    {
     "data": {
      "application/vnd.jupyter.widget-view+json": {
       "model_id": "0b25a2bfb50748b691596b0a6d5866f6",
       "version_major": 2,
       "version_minor": 0
      },
      "text/plain": [
       "Downloading:   0%|          | 0.00/3.14G [00:00<?, ?B/s]"
      ]
     },
     "metadata": {},
     "output_type": "display_data"
    },
    {
     "data": {
      "application/vnd.jupyter.widget-view+json": {
       "model_id": "edaed29f27894062b2b5dca829377410",
       "version_major": 2,
       "version_minor": 0
      },
      "text/plain": [
       "Downloading:   0%|          | 0.00/1.25k [00:00<?, ?B/s]"
      ]
     },
     "metadata": {},
     "output_type": "display_data"
    },
    {
     "data": {
      "application/vnd.jupyter.widget-view+json": {
       "model_id": "ebe6144aced946e694f7ecd03203ea2a",
       "version_major": 2,
       "version_minor": 0
      },
      "text/plain": [
       "Downloading:   0%|          | 0.00/1.71M [00:00<?, ?B/s]"
      ]
     },
     "metadata": {},
     "output_type": "display_data"
    },
    {
     "data": {
      "application/vnd.jupyter.widget-view+json": {
       "model_id": "5828fea064564e65993cfa642c693ef8",
       "version_major": 2,
       "version_minor": 0
      },
      "text/plain": [
       "Downloading:   0%|          | 0.00/1.27M [00:00<?, ?B/s]"
      ]
     },
     "metadata": {},
     "output_type": "display_data"
    },
    {
     "data": {
      "application/vnd.jupyter.widget-view+json": {
       "model_id": "7eaee3578e53443a8ec6c0722e6c7d68",
       "version_major": 2,
       "version_minor": 0
      },
      "text/plain": [
       "Downloading:   0%|          | 0.00/574 [00:00<?, ?B/s]"
      ]
     },
     "metadata": {},
     "output_type": "display_data"
    }
   ],
   "source": [
    "generator = pipeline('text-generation', model=\"sberbank-ai/rugpt3large_based_on_gpt2\")"
   ]
  },
  {
   "cell_type": "markdown",
   "metadata": {},
   "source": [
    "Генерируем 720 предложений (можно было бы больше, но оно и так долговато работает...)"
   ]
  },
  {
   "cell_type": "code",
   "execution_count": 124,
   "metadata": {
    "scrolled": true
   },
   "outputs": [
    {
     "name": "stderr",
     "output_type": "stream",
     "text": [
      "100%|██████████████████████████████████████████████████████████████████████████████| 720/720 [1:00:49<00:00,  5.07s/it]\n"
     ]
    }
   ],
   "source": [
    "generated_sentences = []\n",
    "for i in tqdm(range(720)):\n",
    "    results = generator(' '.join(sentences[i].split()[0:3]), max_length=30)\n",
    "    sent = results[0]['generated_text']\n",
    "    # удаляем всякое ненужное\n",
    "    sent = sent.replace('\\xa0З', '')\n",
    "    sent = sent.replace('\\n', '')\n",
    "    sent = sent.replace('\\xa0', '')\n",
    "    generated_sentences.append(sent)"
   ]
  },
  {
   "cell_type": "markdown",
   "metadata": {},
   "source": [
    "##### Четвертая часть: классификация"
   ]
  },
  {
   "cell_type": "markdown",
   "metadata": {},
   "source": [
    "Создаем датафрейм с предложениями и колонкой \"generated\" (0 -- настоящее, 1 -- сгенерированное)"
   ]
  },
  {
   "cell_type": "code",
   "execution_count": 491,
   "metadata": {},
   "outputs": [],
   "source": [
    "df1 = pd.DataFrame({'sentence': sentences[:1440], 'generated': [0]*1440})\n",
    "df2 = pd.DataFrame({'sentence': generated_sentences, 'generated': [1]*len(generated_sentences)})\n",
    "df3 = pd.DataFrame({'sentence': new_sents, 'generated': [1]*len(new_sents)})\n",
    "df = df1.append(df2, ignore_index = True)\n",
    "df = df.append(df3, ignore_index = True)"
   ]
  },
  {
   "cell_type": "code",
   "execution_count": 492,
   "metadata": {
    "scrolled": true
   },
   "outputs": [
    {
     "data": {
      "text/html": [
       "<div>\n",
       "<style scoped>\n",
       "    .dataframe tbody tr th:only-of-type {\n",
       "        vertical-align: middle;\n",
       "    }\n",
       "\n",
       "    .dataframe tbody tr th {\n",
       "        vertical-align: top;\n",
       "    }\n",
       "\n",
       "    .dataframe thead th {\n",
       "        text-align: right;\n",
       "    }\n",
       "</style>\n",
       "<table border=\"1\" class=\"dataframe\">\n",
       "  <thead>\n",
       "    <tr style=\"text-align: right;\">\n",
       "      <th></th>\n",
       "      <th>sentence</th>\n",
       "      <th>generated</th>\n",
       "    </tr>\n",
       "  </thead>\n",
       "  <tbody>\n",
       "    <tr>\n",
       "      <th>1334</th>\n",
       "      <td>— Думаю, что возможно.</td>\n",
       "      <td>0</td>\n",
       "    </tr>\n",
       "    <tr>\n",
       "      <th>2023</th>\n",
       "      <td>— Я приказал ему не трогать тебя.—Я не могу,— ...</td>\n",
       "      <td>1</td>\n",
       "    </tr>\n",
       "    <tr>\n",
       "      <th>2543</th>\n",
       "      <td>отчего?</td>\n",
       "      <td>1</td>\n",
       "    </tr>\n",
       "    <tr>\n",
       "      <th>1006</th>\n",
       "      <td>— Я не могу допустить, — сказал Сергей Иванови...</td>\n",
       "      <td>0</td>\n",
       "    </tr>\n",
       "    <tr>\n",
       "      <th>404</th>\n",
       "      <td>— Ну, хорошо, так обедать вместе.</td>\n",
       "      <td>0</td>\n",
       "    </tr>\n",
       "  </tbody>\n",
       "</table>\n",
       "</div>"
      ],
      "text/plain": [
       "                                               sentence  generated\n",
       "1334                             — Думаю, что возможно.          0\n",
       "2023  — Я приказал ему не трогать тебя.—Я не могу,— ...          1\n",
       "2543                                            отчего?          1\n",
       "1006  — Я не могу допустить, — сказал Сергей Иванови...          0\n",
       "404                   — Ну, хорошо, так обедать вместе.          0"
      ]
     },
     "execution_count": 492,
     "metadata": {},
     "output_type": "execute_result"
    }
   ],
   "source": [
    "df.sample(5)"
   ]
  },
  {
   "cell_type": "markdown",
   "metadata": {},
   "source": [
    "Подготавливаем данные для классификации"
   ]
  },
  {
   "cell_type": "code",
   "execution_count": 493,
   "metadata": {},
   "outputs": [],
   "source": [
    "vectorizer = TfidfVectorizer()"
   ]
  },
  {
   "cell_type": "code",
   "execution_count": 494,
   "metadata": {},
   "outputs": [],
   "source": [
    "# делим на предложения и целевую переменную\n",
    "X = df.drop(['generated'], axis=1)['sentence']\n",
    "y = df['generated']"
   ]
  },
  {
   "cell_type": "code",
   "execution_count": 495,
   "metadata": {},
   "outputs": [],
   "source": [
    "# делим на сгенерированные и настоящие\n",
    "generated = df1.drop(['generated'], axis=1)['sentence']\n",
    "real = df2.drop(['generated'], axis=1)['sentence']"
   ]
  },
  {
   "cell_type": "code",
   "execution_count": 496,
   "metadata": {},
   "outputs": [],
   "source": [
    "# векторизуем все\n",
    "X_transformed = vectorizer.fit_transform(X)"
   ]
  },
  {
   "cell_type": "markdown",
   "metadata": {},
   "source": [
    "Разделяем на трейн и тест, классифицируем и выводим предсказания!"
   ]
  },
  {
   "cell_type": "code",
   "execution_count": 498,
   "metadata": {},
   "outputs": [],
   "source": [
    "# stratify -- для баланса классов в тестовой и трейновой\n",
    "X_train, X_test, y_train, y_test = train_test_split(X_transformed, y, test_size=0.3,\n",
    "                                                    random_state=np.random.seed(42),\n",
    "                                                    stratify=y)"
   ]
  },
  {
   "cell_type": "code",
   "execution_count": 499,
   "metadata": {},
   "outputs": [
    {
     "data": {
      "text/html": [
       "<style>#sk-container-id-6 {color: black;background-color: white;}#sk-container-id-6 pre{padding: 0;}#sk-container-id-6 div.sk-toggleable {background-color: white;}#sk-container-id-6 label.sk-toggleable__label {cursor: pointer;display: block;width: 100%;margin-bottom: 0;padding: 0.3em;box-sizing: border-box;text-align: center;}#sk-container-id-6 label.sk-toggleable__label-arrow:before {content: \"▸\";float: left;margin-right: 0.25em;color: #696969;}#sk-container-id-6 label.sk-toggleable__label-arrow:hover:before {color: black;}#sk-container-id-6 div.sk-estimator:hover label.sk-toggleable__label-arrow:before {color: black;}#sk-container-id-6 div.sk-toggleable__content {max-height: 0;max-width: 0;overflow: hidden;text-align: left;background-color: #f0f8ff;}#sk-container-id-6 div.sk-toggleable__content pre {margin: 0.2em;color: black;border-radius: 0.25em;background-color: #f0f8ff;}#sk-container-id-6 input.sk-toggleable__control:checked~div.sk-toggleable__content {max-height: 200px;max-width: 100%;overflow: auto;}#sk-container-id-6 input.sk-toggleable__control:checked~label.sk-toggleable__label-arrow:before {content: \"▾\";}#sk-container-id-6 div.sk-estimator input.sk-toggleable__control:checked~label.sk-toggleable__label {background-color: #d4ebff;}#sk-container-id-6 div.sk-label input.sk-toggleable__control:checked~label.sk-toggleable__label {background-color: #d4ebff;}#sk-container-id-6 input.sk-hidden--visually {border: 0;clip: rect(1px 1px 1px 1px);clip: rect(1px, 1px, 1px, 1px);height: 1px;margin: -1px;overflow: hidden;padding: 0;position: absolute;width: 1px;}#sk-container-id-6 div.sk-estimator {font-family: monospace;background-color: #f0f8ff;border: 1px dotted black;border-radius: 0.25em;box-sizing: border-box;margin-bottom: 0.5em;}#sk-container-id-6 div.sk-estimator:hover {background-color: #d4ebff;}#sk-container-id-6 div.sk-parallel-item::after {content: \"\";width: 100%;border-bottom: 1px solid gray;flex-grow: 1;}#sk-container-id-6 div.sk-label:hover label.sk-toggleable__label {background-color: #d4ebff;}#sk-container-id-6 div.sk-serial::before {content: \"\";position: absolute;border-left: 1px solid gray;box-sizing: border-box;top: 0;bottom: 0;left: 50%;z-index: 0;}#sk-container-id-6 div.sk-serial {display: flex;flex-direction: column;align-items: center;background-color: white;padding-right: 0.2em;padding-left: 0.2em;position: relative;}#sk-container-id-6 div.sk-item {position: relative;z-index: 1;}#sk-container-id-6 div.sk-parallel {display: flex;align-items: stretch;justify-content: center;background-color: white;position: relative;}#sk-container-id-6 div.sk-item::before, #sk-container-id-6 div.sk-parallel-item::before {content: \"\";position: absolute;border-left: 1px solid gray;box-sizing: border-box;top: 0;bottom: 0;left: 50%;z-index: -1;}#sk-container-id-6 div.sk-parallel-item {display: flex;flex-direction: column;z-index: 1;position: relative;background-color: white;}#sk-container-id-6 div.sk-parallel-item:first-child::after {align-self: flex-end;width: 50%;}#sk-container-id-6 div.sk-parallel-item:last-child::after {align-self: flex-start;width: 50%;}#sk-container-id-6 div.sk-parallel-item:only-child::after {width: 0;}#sk-container-id-6 div.sk-dashed-wrapped {border: 1px dashed gray;margin: 0 0.4em 0.5em 0.4em;box-sizing: border-box;padding-bottom: 0.4em;background-color: white;}#sk-container-id-6 div.sk-label label {font-family: monospace;font-weight: bold;display: inline-block;line-height: 1.2em;}#sk-container-id-6 div.sk-label-container {text-align: center;}#sk-container-id-6 div.sk-container {/* jupyter's `normalize.less` sets `[hidden] { display: none; }` but bootstrap.min.css set `[hidden] { display: none !important; }` so we also need the `!important` here to be able to override the default hidden behavior on the sphinx rendered scikit-learn.org. See: https://github.com/scikit-learn/scikit-learn/issues/21755 */display: inline-block !important;position: relative;}#sk-container-id-6 div.sk-text-repr-fallback {display: none;}</style><div id=\"sk-container-id-6\" class=\"sk-top-container\"><div class=\"sk-text-repr-fallback\"><pre>KNeighborsClassifier()</pre><b>In a Jupyter environment, please rerun this cell to show the HTML representation or trust the notebook. <br />On GitHub, the HTML representation is unable to render, please try loading this page with nbviewer.org.</b></div><div class=\"sk-container\" hidden><div class=\"sk-item\"><div class=\"sk-estimator sk-toggleable\"><input class=\"sk-toggleable__control sk-hidden--visually\" id=\"sk-estimator-id-6\" type=\"checkbox\" checked><label for=\"sk-estimator-id-6\" class=\"sk-toggleable__label sk-toggleable__label-arrow\">KNeighborsClassifier</label><div class=\"sk-toggleable__content\"><pre>KNeighborsClassifier()</pre></div></div></div></div></div>"
      ],
      "text/plain": [
       "KNeighborsClassifier()"
      ]
     },
     "execution_count": 499,
     "metadata": {},
     "output_type": "execute_result"
    }
   ],
   "source": [
    "# классификатор -- knn\n",
    "classifier = KNeighborsClassifier()\n",
    "classifier.fit(X_train, y_train)"
   ]
  },
  {
   "cell_type": "code",
   "execution_count": 500,
   "metadata": {},
   "outputs": [],
   "source": [
    "y_pred_test = classifier.predict(X_test)"
   ]
  },
  {
   "cell_type": "code",
   "execution_count": 501,
   "metadata": {},
   "outputs": [],
   "source": [
    "y_pred_train = classifier.predict(X_train)"
   ]
  },
  {
   "cell_type": "code",
   "execution_count": 502,
   "metadata": {},
   "outputs": [],
   "source": [
    "acc_test = np.mean(y_test == y_pred_test)\n",
    "acc_train = np.mean(y_train == y_pred_train)"
   ]
  },
  {
   "cell_type": "markdown",
   "metadata": {},
   "source": [
    "Заодно проверим accuracy! На тесте совсем маленькая, но зато интереснее играть! :)"
   ]
  },
  {
   "cell_type": "code",
   "execution_count": 503,
   "metadata": {},
   "outputs": [
    {
     "data": {
      "text/plain": [
       "0.5833333333333334"
      ]
     },
     "execution_count": 503,
     "metadata": {},
     "output_type": "execute_result"
    }
   ],
   "source": [
    "acc_test"
   ]
  },
  {
   "cell_type": "code",
   "execution_count": 504,
   "metadata": {},
   "outputs": [
    {
     "data": {
      "text/plain": [
       "0.8293650793650794"
      ]
     },
     "execution_count": 504,
     "metadata": {},
     "output_type": "execute_result"
    }
   ],
   "source": [
    "acc_train"
   ]
  },
  {
   "cell_type": "markdown",
   "metadata": {},
   "source": [
    "С помощью сложных операций преобразования в numpy array и затем в list создаем супер-общую табличку с векторами каждого предложения, с самим предложением, с мнением модели и реальностью"
   ]
  },
  {
   "cell_type": "code",
   "execution_count": 505,
   "metadata": {},
   "outputs": [],
   "source": [
    "X_tr = X_transformed.toarray().tolist()\n",
    "X_tr_tr = X_train.toarray().tolist()\n",
    "X_tr_ts = X_test.toarray().tolist()"
   ]
  },
  {
   "cell_type": "code",
   "execution_count": 506,
   "metadata": {},
   "outputs": [
    {
     "name": "stderr",
     "output_type": "stream",
     "text": [
      "100%|█████████████████████████████████████████████████████████████████████████████| 2880/2880 [00:24<00:00, 117.09it/s]\n"
     ]
    }
   ],
   "source": [
    "new_arr = [0]*len(X)\n",
    "for i in tqdm(range(len(X))):\n",
    "    if X_tr[i] in X_tr_tr:\n",
    "        new_arr[i] = y_pred_train[X_tr_tr.index(X_tr[i])]\n",
    "    elif X_tr[i] in X_tr_ts:\n",
    "        new_arr[i] = y_pred_test[X_tr_ts.index(X_tr[i])]"
   ]
  },
  {
   "cell_type": "code",
   "execution_count": 507,
   "metadata": {},
   "outputs": [
    {
     "data": {
      "text/html": [
       "<div>\n",
       "<style scoped>\n",
       "    .dataframe tbody tr th:only-of-type {\n",
       "        vertical-align: middle;\n",
       "    }\n",
       "\n",
       "    .dataframe tbody tr th {\n",
       "        vertical-align: top;\n",
       "    }\n",
       "\n",
       "    .dataframe thead th {\n",
       "        text-align: right;\n",
       "    }\n",
       "</style>\n",
       "<table border=\"1\" class=\"dataframe\">\n",
       "  <thead>\n",
       "    <tr style=\"text-align: right;\">\n",
       "      <th></th>\n",
       "      <th>0</th>\n",
       "      <th>1</th>\n",
       "      <th>2</th>\n",
       "      <th>3</th>\n",
       "      <th>4</th>\n",
       "      <th>5</th>\n",
       "      <th>6</th>\n",
       "      <th>7</th>\n",
       "      <th>8</th>\n",
       "      <th>9</th>\n",
       "      <th>...</th>\n",
       "      <th>5631</th>\n",
       "      <th>5632</th>\n",
       "      <th>5633</th>\n",
       "      <th>5634</th>\n",
       "      <th>5635</th>\n",
       "      <th>5636</th>\n",
       "      <th>5637</th>\n",
       "      <th>sentence</th>\n",
       "      <th>model</th>\n",
       "      <th>generated</th>\n",
       "    </tr>\n",
       "  </thead>\n",
       "  <tbody>\n",
       "    <tr>\n",
       "      <th>2037</th>\n",
       "      <td>0.0</td>\n",
       "      <td>0.0</td>\n",
       "      <td>0.0</td>\n",
       "      <td>0.0</td>\n",
       "      <td>0.0</td>\n",
       "      <td>0.0</td>\n",
       "      <td>0.0</td>\n",
       "      <td>0.0</td>\n",
       "      <td>0.0</td>\n",
       "      <td>0.0</td>\n",
       "      <td>...</td>\n",
       "      <td>0.0</td>\n",
       "      <td>0.0</td>\n",
       "      <td>0.0</td>\n",
       "      <td>0.0</td>\n",
       "      <td>0.0</td>\n",
       "      <td>0.0</td>\n",
       "      <td>0.0</td>\n",
       "      <td>«Попробовать хотите», понял я.—Попробуйте,— ск...</td>\n",
       "      <td>0</td>\n",
       "      <td>1</td>\n",
       "    </tr>\n",
       "    <tr>\n",
       "      <th>2441</th>\n",
       "      <td>0.0</td>\n",
       "      <td>0.0</td>\n",
       "      <td>0.0</td>\n",
       "      <td>0.0</td>\n",
       "      <td>0.0</td>\n",
       "      <td>0.0</td>\n",
       "      <td>0.0</td>\n",
       "      <td>0.0</td>\n",
       "      <td>0.0</td>\n",
       "      <td>0.0</td>\n",
       "      <td>...</td>\n",
       "      <td>0.0</td>\n",
       "      <td>0.0</td>\n",
       "      <td>0.0</td>\n",
       "      <td>0.0</td>\n",
       "      <td>0.0</td>\n",
       "      <td>0.0</td>\n",
       "      <td>0.0</td>\n",
       "      <td>брала, послать Да за другим поваром?</td>\n",
       "      <td>0</td>\n",
       "      <td>1</td>\n",
       "    </tr>\n",
       "    <tr>\n",
       "      <th>2492</th>\n",
       "      <td>0.0</td>\n",
       "      <td>0.0</td>\n",
       "      <td>0.0</td>\n",
       "      <td>0.0</td>\n",
       "      <td>0.0</td>\n",
       "      <td>0.0</td>\n",
       "      <td>0.0</td>\n",
       "      <td>0.0</td>\n",
       "      <td>0.0</td>\n",
       "      <td>0.0</td>\n",
       "      <td>...</td>\n",
       "      <td>0.0</td>\n",
       "      <td>0.0</td>\n",
       "      <td>0.0</td>\n",
       "      <td>0.0</td>\n",
       "      <td>0.0</td>\n",
       "      <td>0.0</td>\n",
       "      <td>0.0</td>\n",
       "      <td>Матвей, Карла поморщился цветы солнце. Гриневи...</td>\n",
       "      <td>1</td>\n",
       "      <td>1</td>\n",
       "    </tr>\n",
       "    <tr>\n",
       "      <th>814</th>\n",
       "      <td>0.0</td>\n",
       "      <td>0.0</td>\n",
       "      <td>0.0</td>\n",
       "      <td>0.0</td>\n",
       "      <td>0.0</td>\n",
       "      <td>0.0</td>\n",
       "      <td>0.0</td>\n",
       "      <td>0.0</td>\n",
       "      <td>0.0</td>\n",
       "      <td>0.0</td>\n",
       "      <td>...</td>\n",
       "      <td>0.0</td>\n",
       "      <td>0.0</td>\n",
       "      <td>0.0</td>\n",
       "      <td>0.0</td>\n",
       "      <td>0.0</td>\n",
       "      <td>0.0</td>\n",
       "      <td>0.0</td>\n",
       "      <td>«Ага!</td>\n",
       "      <td>0</td>\n",
       "      <td>0</td>\n",
       "    </tr>\n",
       "    <tr>\n",
       "      <th>238</th>\n",
       "      <td>0.0</td>\n",
       "      <td>0.0</td>\n",
       "      <td>0.0</td>\n",
       "      <td>0.0</td>\n",
       "      <td>0.0</td>\n",
       "      <td>0.0</td>\n",
       "      <td>0.0</td>\n",
       "      <td>0.0</td>\n",
       "      <td>0.0</td>\n",
       "      <td>0.0</td>\n",
       "      <td>...</td>\n",
       "      <td>0.0</td>\n",
       "      <td>0.0</td>\n",
       "      <td>0.0</td>\n",
       "      <td>0.0</td>\n",
       "      <td>0.0</td>\n",
       "      <td>0.0</td>\n",
       "      <td>0.0</td>\n",
       "      <td>— После того как мой муж, отец моих детей, вхо...</td>\n",
       "      <td>0</td>\n",
       "      <td>0</td>\n",
       "    </tr>\n",
       "  </tbody>\n",
       "</table>\n",
       "<p>5 rows × 5641 columns</p>\n",
       "</div>"
      ],
      "text/plain": [
       "        0    1    2    3    4    5    6    7    8    9  ...  5631  5632  5633  \\\n",
       "2037  0.0  0.0  0.0  0.0  0.0  0.0  0.0  0.0  0.0  0.0  ...   0.0   0.0   0.0   \n",
       "2441  0.0  0.0  0.0  0.0  0.0  0.0  0.0  0.0  0.0  0.0  ...   0.0   0.0   0.0   \n",
       "2492  0.0  0.0  0.0  0.0  0.0  0.0  0.0  0.0  0.0  0.0  ...   0.0   0.0   0.0   \n",
       "814   0.0  0.0  0.0  0.0  0.0  0.0  0.0  0.0  0.0  0.0  ...   0.0   0.0   0.0   \n",
       "238   0.0  0.0  0.0  0.0  0.0  0.0  0.0  0.0  0.0  0.0  ...   0.0   0.0   0.0   \n",
       "\n",
       "      5634  5635  5636  5637  \\\n",
       "2037   0.0   0.0   0.0   0.0   \n",
       "2441   0.0   0.0   0.0   0.0   \n",
       "2492   0.0   0.0   0.0   0.0   \n",
       "814    0.0   0.0   0.0   0.0   \n",
       "238    0.0   0.0   0.0   0.0   \n",
       "\n",
       "                                               sentence  model  generated  \n",
       "2037  «Попробовать хотите», понял я.—Попробуйте,— ск...      0          1  \n",
       "2441               брала, послать Да за другим поваром?      0          1  \n",
       "2492  Матвей, Карла поморщился цветы солнце. Гриневи...      1          1  \n",
       "814                                               «Ага!      0          0  \n",
       "238   — После того как мой муж, отец моих детей, вхо...      0          0  \n",
       "\n",
       "[5 rows x 5641 columns]"
      ]
     },
     "execution_count": 507,
     "metadata": {},
     "output_type": "execute_result"
    }
   ],
   "source": [
    "new_df = pd.DataFrame(X_transformed.toarray())\n",
    "new_df = new_df.assign(sentence=X)\n",
    "new_df = new_df.assign(model=new_arr)\n",
    "fin_df = new_df.assign(generated=y)  \n",
    "fin_df.sample(5)"
   ]
  },
  {
   "cell_type": "markdown",
   "metadata": {},
   "source": [
    "Общая accuracy для всего.\n",
    "В целом немного, но тем интереснее!"
   ]
  },
  {
   "cell_type": "code",
   "execution_count": 508,
   "metadata": {
    "scrolled": true
   },
   "outputs": [
    {
     "data": {
      "text/plain": [
       "0.7555555555555555"
      ]
     },
     "execution_count": 508,
     "metadata": {},
     "output_type": "execute_result"
    }
   ],
   "source": [
    "np.mean(np.array(fin_df['model']) == np.array(fin_df['generated']))"
   ]
  },
  {
   "cell_type": "markdown",
   "metadata": {},
   "source": [
    "##### Пятая часть: бот"
   ]
  },
  {
   "cell_type": "markdown",
   "metadata": {},
   "source": [
    "Создаем бота"
   ]
  },
  {
   "cell_type": "code",
   "execution_count": 556,
   "metadata": {
    "id": "H2eVm-VVGzAO"
   },
   "outputs": [],
   "source": [
    "import config"
    "token = 'mytoken'\n",
    "bot=telebot.TeleBot(cofig.token)"
   ]
  },
  {
   "cell_type": "markdown",
   "metadata": {},
   "source": [
    "Начинаем диалог с ботом с кнопкой, с помощью которой можно приступить к игре"
   ]
  },
  {
   "cell_type": "code",
   "execution_count": 557,
   "metadata": {
    "id": "DDuVtNrKGrjU"
   },
   "outputs": [],
   "source": [
    "@bot.message_handler(commands=['start'])\n",
    "def start_message(message):\n",
    "    # добавляем клавиатуру\n",
    "    keyboard = types.InlineKeyboardMarkup()\n",
    "    # и кнопку\n",
    "    button = types.InlineKeyboardButton(text=\"Начнем игру!\", callback_data=\"button\")\n",
    "    keyboard.add(button)\n",
    "\n",
    "    # отправляем сообщение пользователю\n",
    "    bot.send_message(message.chat.id, emoji.emojize(\"Привет! :smiling_face_with_open_hands: Давай поиграем!\\n\"\n",
    "                     \"Я буду присылать тебе два предложения. Одно из них -- из текстов Л.Н. Толстого. \"\n",
    "                     \"Второе -- сгенеированное компьютером. Ты должен угадать, какое предложение сгенерировано.\\n\\n\"\n",
    "                     \":white_question_mark: Если вдруг тебе нужно будет напомнить правила, можешь ввести команду /help.\\n\\n\"\n",
    "                     \":chart_increasing: Чтобы посмотреть статистику, введи команду /stats :chart_decreasing:\\n\\n\"\n",
    "                     \"Удачи! :smiling_face_with_open_hands:\\n\\n\"   \n",
    "                     \"Нажми на кнопку, когда будешь готов к игре!\"), reply_markup=keyboard)"
   ]
  },
  {
   "cell_type": "markdown",
   "metadata": {},
   "source": [
    "Нужные словарики для учета нужной информации"
   ]
  },
  {
   "cell_type": "code",
   "execution_count": 558,
   "metadata": {},
   "outputs": [],
   "source": [
    "guessed_person = {}\n",
    "guessed_model = {}\n",
    "total_plays = {}\n",
    "cur_sents = {}\n",
    "generated_not_played = {}\n",
    "real_not_played = {}"
   ]
  },
  {
   "cell_type": "markdown",
   "metadata": {},
   "source": [
    "Страшная длиннющая функция обрабатывающая ответы на кнопки..."
   ]
  },
  {
   "cell_type": "code",
   "execution_count": 559,
   "metadata": {},
   "outputs": [],
   "source": [
    "@bot.callback_query_handler(func=lambda call: True)\n",
    "def guess(call):\n",
    "    if call.message:\n",
    "        # если ответили на кнопку \"играть\"\n",
    "        if call.data == \"button\":\n",
    "            # если все еще есть предложения\n",
    "            try:\n",
    "                # добавляем в словарь с \"несыгранными\" предложениями \"несыгранные\" данным пользователем предложения\n",
    "                if call.message.chat.id not in generated_not_played:\n",
    "                    generated_not_played[call.message.chat.id] = list(fin_df['sentence'][(fin_df['generated'] == 1)])\n",
    "                if call.message.chat.id not in real_not_played:\n",
    "                    real_not_played[call.message.chat.id] = list(fin_df['sentence'][(fin_df['generated'] == 0)])\n",
    "                \n",
    "                # выбираем случайные два предложения: настоящее и сгенерированное\n",
    "                sent1 = random.choice(generated_not_played[call.message.chat.id])\n",
    "                sent2 = random.choice(real_not_played[call.message.chat.id])\n",
    "                \n",
    "                # удаляем их из \"несыгранных\"\n",
    "                generated_not_played[call.message.chat.id].remove(sent1)\n",
    "                real_not_played[call.message.chat.id].remove(sent2)\n",
    "                \n",
    "                # создаем список из этих предложений\n",
    "                sents = [sent1, sent2]\n",
    "\n",
    "                bot.send_message(call.message.chat.id, \"Вот два предложения!\")\n",
    "                \n",
    "                # случайным образом выбираем первое\n",
    "                fst = random.choice(sents)\n",
    "                \n",
    "                # и остается второе\n",
    "                sents.remove(fst)\n",
    "                \n",
    "                # в текущих предложениях у пользователя фиксируем порядок\n",
    "                cur_sents[call.message.chat.id] = [fst, ' '.join(sents)]\n",
    "\n",
    "                bot.send_message(call.message.chat.id, f\"Первое предложение:\\n\\n{fst}\")\n",
    "                bot.send_message(call.message.chat.id, f\"Второе предложение:\\n\\n{' '.join(sents)}\")\n",
    "                \n",
    "                # добавляем клавиатуру с кнопками -- первое или второе сгенерированное\n",
    "                keyboard = types.InlineKeyboardMarkup()\n",
    "\n",
    "                button1 = types.InlineKeyboardButton(text=\"Первое\", callback_data=\"1\")\n",
    "                button2 = types.InlineKeyboardButton(text=\"Второе\", callback_data=\"2\")\n",
    "\n",
    "                keyboard.add(button1)\n",
    "                keyboard.add(button2)\n",
    "                \n",
    "                bot.send_message(call.message.chat.id, f\"Какое предложение сгенерировано компьютером?\", reply_markup=keyboard)\n",
    "                \n",
    "            # если предложения закончились\n",
    "            except:\n",
    "                bot.send_message(call.message.chat.id, f\"Ой, вы достигли конца игры! Поздравляем!\")\n",
    "        \n",
    "        # если пользователь выбрал первое как сгенерированное\n",
    "        elif call.data == '1':\n",
    "            \n",
    "            bot.send_message(call.message.chat.id, \"Принято!\")\n",
    "            bot.send_message(call.message.chat.id, \"Вот что думает модель:\")\n",
    "            \n",
    "            # смотрим на то, что думает модель\n",
    "            mod_guess1 = list(fin_df['model'][(fin_df['sentence'] == cur_sents[call.message.chat.id][0])])[0]\n",
    "            mod_guess2 = list(fin_df['model'][(fin_df['sentence'] == cur_sents[call.message.chat.id][1])])[0]\n",
    "            if mod_guess1 == 0:\n",
    "                bot.send_message(call.message.chat.id, \"Модель считает первое предложение настоящим\")\n",
    "            else:\n",
    "                bot.send_message(call.message.chat.id, \"Модель считает первое предложение сгенерированным компьютером\")\n",
    "            \n",
    "            # смотрим, что на самом деле\n",
    "            actual1 = list(fin_df['generated'][(fin_df['sentence'] == cur_sents[call.message.chat.id][0])])[0]\n",
    "            actual2 = list(fin_df['generated'][(fin_df['sentence'] == cur_sents[call.message.chat.id][1])])[0]\n",
    "            \n",
    "            # дальше условия: если пользователь (не) угадал и модель (не) угадала\n",
    "            # еще добавляем к количеству угаданных моделью и пользователем\n",
    "            if actual1 == 0:\n",
    "                if mod_guess1 == 0:\n",
    "                    bot.send_message(call.message.chat.id, emoji.emojize(\"На самом деле первое предложение настоящее! \"\n",
    "                                                           \"Вы не угадали :slightly_frowning_face: Модель ответила правильно\\n\\n\"\n",
    "                                                           \"Модель 1️⃣ - 0️⃣ Ты\"))\n",
    "                    if call.message.chat.id not in guessed_model:\n",
    "                        guessed_model[call.message.chat.id] = 1\n",
    "                    else:\n",
    "                        guessed_model[call.message.chat.id] += 1\n",
    "                else:\n",
    "                    bot.send_message(call.message.chat.id, emoji.emojize(\"На самом деле первое предложение настоящее! \"\n",
    "                                                           \"Вы не угадали :slightly_frowning_face: Модель тоже ошиблась\\n\\n\"\n",
    "                                                           \"Модель 0️⃣ - 0️⃣ Ты\"))\n",
    "            else:\n",
    "                if mod_guess1 == 0:\n",
    "                    bot.send_message(call.message.chat.id, emoji.emojize(\"На самом деле первое предложение сгенерированное! \"\n",
    "                                                           \"Вы угадали! :party_popper: Модель ошиблась\\n\\n\"\n",
    "                                                           \"Модель 0️⃣ - 1️⃣ Ты\"))\n",
    "                    if call.message.chat.id not in guessed_person:\n",
    "                        guessed_person[call.message.chat.id] = 1\n",
    "                    else:\n",
    "                        guessed_person[call.message.chat.id] += 1\n",
    "                else:\n",
    "                    bot.send_message(call.message.chat.id, emoji.emojize(\"На самом деле первое предложение сгенерированное! \"\n",
    "                                                           \"Вы угадали! :party_popper: Модель тоже правильно ответила\\n\\n\"\n",
    "                                                           \"Модель 1️⃣ - 1️⃣ Ты\"))\n",
    "                    if call.message.chat.id not in guessed_person:\n",
    "                        guessed_person[call.message.chat.id] = 1\n",
    "                    else:\n",
    "                        guessed_person[call.message.chat.id] += 1\n",
    "                    if call.message.chat.id not in guessed_model:\n",
    "                        guessed_model[call.message.chat.id] = 1\n",
    "                    else:\n",
    "                        guessed_model[call.message.chat.id] += 1\n",
    "            \n",
    "            # добавляем количество игр\n",
    "            if call.message.chat.id not in total_plays:\n",
    "                total_plays[call.message.chat.id] = 1\n",
    "            else:\n",
    "                total_plays[call.message.chat.id] += 1\n",
    "            \n",
    "            # создаем клавиатуру с кнопкой, чтобы поиграть еще\n",
    "            keyboard = types.InlineKeyboardMarkup()\n",
    "            button = types.InlineKeyboardButton(text=\"Поиграем еще!\", callback_data=\"button\")\n",
    "            keyboard.add(button)\n",
    "            bot.send_message(call.message.chat.id, \"Хочешь поиграть еще??\", reply_markup=keyboard)\n",
    "            \n",
    "        # то же самое, если пользователь выбрал второе предложение    \n",
    "        elif call.data == '2':\n",
    "            \n",
    "            bot.send_message(call.message.chat.id, \"Принято!\")\n",
    "            bot.send_message(call.message.chat.id, \"Вот что думает модель:\")\n",
    "            \n",
    "            mod_guess1 = list(fin_df['model'][(fin_df['sentence'] == cur_sents[call.message.chat.id][0])])[0]\n",
    "            mod_guess2 = list(fin_df['model'][(fin_df['sentence'] == cur_sents[call.message.chat.id][1])])[0]\n",
    "            \n",
    "            if mod_guess2 == 0:\n",
    "                bot.send_message(call.message.chat.id, \"Модель считает второе предложение настоящим\")\n",
    "            else:\n",
    "                bot.send_message(call.message.chat.id, \"Модель считает второе предложение сгенерированным компьютером\")\n",
    "                \n",
    "            actual1 = list(fin_df['generated'][(fin_df['sentence'] == cur_sents[call.message.chat.id][0])])[0]\n",
    "            actual2 = list(fin_df['generated'][(fin_df['sentence'] == cur_sents[call.message.chat.id][1])])[0]\n",
    "            \n",
    "            if actual2 == 0:\n",
    "                if mod_guess2 == 0:\n",
    "                    bot.send_message(call.message.chat.id, emoji.emojize(\"На самом деле второе предложение настоящее! \"\n",
    "                                                           \"Вы не угадали :slightly_frowning_face: Модель ответила правильно\\n\\n\"\n",
    "                                                           \"Модель 1️⃣ - 0️⃣ Ты\"))\n",
    "                    if call.message.chat.id not in guessed_model:\n",
    "                        guessed_model[call.message.chat.id] = 1\n",
    "                    else:\n",
    "                        guessed_model[call.message.chat.id] += 1\n",
    "                else:\n",
    "                    bot.send_message(call.message.chat.id, emoji.emojize(\"На самом деле второе предложение настоящее! \"\n",
    "                                                           \"Вы не угадали :slightly_frowning_face: Модель тоже ошиблась\\n\\n\"\n",
    "                                                           \"Модель 0️⃣ - 0️⃣ Ты\"))\n",
    "            else:\n",
    "                if mod_guess2 == 0:\n",
    "                    bot.send_message(call.message.chat.id, emoji.emojize(\"На самом деле второе предложение сгенерированное! \"\n",
    "                                                           \"Вы угадали! :party_popper: Модель ошиблась\\n\\n\"\n",
    "                                                           \"Модель 0️⃣ - 1️⃣ Ты\"))\n",
    "                    if call.message.chat.id not in guessed_person:\n",
    "                        guessed_person[call.message.chat.id] = 1\n",
    "                    else:\n",
    "                        guessed_person[call.message.chat.id] += 1\n",
    "                else:\n",
    "                    bot.send_message(call.message.chat.id, emoji.emojize(\"На самом деле второе предложение сгенерированное! \"\n",
    "                                                           \"Вы угадали! :party_popper: Модель тоже правильно ответила\\n\\n\"\n",
    "                                                           \"Модель 1️⃣ - 1️⃣ Ты\"))\n",
    "                    if call.message.chat.id not in guessed_person:\n",
    "                        guessed_person[call.message.chat.id] = 1\n",
    "                    else:\n",
    "                        guessed_person[call.message.chat.id] += 1\n",
    "                    if call.message.chat.id not in guessed_model:\n",
    "                        guessed_model[call.message.chat.id] = 1\n",
    "                    else:\n",
    "                        guessed_model[call.message.chat.id] += 1\n",
    "                        \n",
    "            if call.message.chat.id not in total_plays:\n",
    "                total_plays[call.message.chat.id] = 1\n",
    "            else:\n",
    "                total_plays[call.message.chat.id] += 1\n",
    "            \n",
    "            keyboard = types.InlineKeyboardMarkup()\n",
    "            button = types.InlineKeyboardButton(text=\"Поиграем еще!\", callback_data=\"button\")\n",
    "            keyboard.add(button)\n",
    "            bot.send_message(call.message.chat.id, emoji.emojize(\"Хочешь поиграть еще? :smiling_face_with_open_hands:\"),\n",
    "                             reply_markup=keyboard)                         "
   ]
  },
  {
   "cell_type": "markdown",
   "metadata": {},
   "source": [
    "Присылаем статистику с двумя картинками и с тремя циферками!\n",
    "\n",
    "Предлагаем играть еще :)))))"
   ]
  },
  {
   "cell_type": "code",
   "execution_count": 560,
   "metadata": {},
   "outputs": [],
   "source": [
    "@bot.message_handler(commands=['stats']) \n",
    "def send_statistics(message):\n",
    "    # чтобы согласовать с числом\n",
    "    sentencee = morph.parse('предложение')[0]\n",
    "    fois = morph.parse('раз')[0]\n",
    "    # сами числа\n",
    "    g_p = guessed_person[message.chat.id]\n",
    "    g_m = guessed_model[message.chat.id]\n",
    "    t_p = total_plays[message.chat.id]\n",
    "    \n",
    "    # немного статистики\n",
    "    bot.send_message(message.from_user.id, f'Всего ты играл {t_p} {fois.make_agree_with_number(t_p).word}')\n",
    "    bot.send_message(message.from_user.id, f'Ты угадал {g_p} {sentencee.make_agree_with_number(g_p).word}')\n",
    "    bot.send_message(message.from_user.id, f'Модель угадала {g_m} {sentencee.make_agree_with_number(g_m).word}')\n",
    "    \n",
    "    # строим первый график!\n",
    "    labels = [\n",
    "        'Модель', 'Пользователь'\n",
    "    ]\n",
    " \n",
    "    info = [\n",
    "        guessed_model[message.chat.id], guessed_person[message.chat.id]\n",
    "    ]\n",
    "    \n",
    "    # круговая (? -- pie!) диаграмма с процентным соотношением правильных ответов модели и пользователя\n",
    "    fig, ax = plt.subplots()\n",
    "    ax.set_title('Статистика')\n",
    "    ax.pie(x=info, labels=labels, autopct='%1.f%%', colors=['#DE3163', '#FF7F50'])\n",
    "    fig.savefig(f'{message.chat.id}stats.png')\n",
    "    plt.clf()\n",
    "    \n",
    "    # отправляем фоточку\n",
    "    photo = open(f'{message.chat.id}stats.png', 'rb')\n",
    "    bot.send_photo(message.chat.id, photo)\n",
    "    \n",
    "    # второй график!\n",
    "    info1 = [\n",
    "        total_plays[message.chat.id] - guessed_model[message.chat.id], guessed_model[message.chat.id]\n",
    "        ]\n",
    "\n",
    "    info2 = [\n",
    "            total_plays[message.chat.id] - guessed_person[message.chat.id], guessed_person[message.chat.id]\n",
    "            ]\n",
    "    \n",
    "    fig, (ax1, ax2) = plt.subplots(nrows=1, ncols=2, figsize=(10, 6))\n",
    "    \n",
    "    ax1.barh(['Неправильные', 'Правильные'], info1, color='#DE3163')\n",
    "    \n",
    "    ax1.set_xticks(range(0, total_plays[message.chat.id], 1))\n",
    "    \n",
    "    ax1.invert_xaxis()\n",
    "    \n",
    "    ax1.set_title('Модель')\n",
    "\n",
    "    ax2.barh(['Неправильные', 'Правильные'], info2, color='#FF7F50')\n",
    "    \n",
    "    ax2.set_xticks(range(0, total_plays[message.chat.id], 1))\n",
    "    \n",
    "    ax2.yaxis.set_label_position(\"right\")\n",
    "    ax2.yaxis.tick_right()\n",
    "    \n",
    "    ax2.set_title('Ты')\n",
    "\n",
    "    fig.suptitle('Кто лучше: ты или модель?', weight='bold')\n",
    "\n",
    "    fig.tight_layout()\n",
    "    \n",
    "    fig.savefig(f'{message.chat.id}beautiful.png')\n",
    "    plt.clf()\n",
    "    \n",
    "    # этот график содержит два подграфика: статистика правильных/неправильных для модели и для пользователя\n",
    "    \n",
    "    beautiful = open(f'{message.chat.id}beautiful.png', 'rb')\n",
    "    bot.send_photo(message.chat.id, beautiful)\n",
    "    \n",
    "    # снова предлагаем поиграть!!!!\n",
    "    keyboard = types.InlineKeyboardMarkup()\n",
    "    button = types.InlineKeyboardButton(text=\"Поиграем еще!\", callback_data=\"button\")\n",
    "    keyboard.add(button)\n",
    "    bot.send_message(message.chat.id, emoji.emojize(\"Хочешь поиграть еще? :smiling_face_with_open_hands:\"),\n",
    "                     reply_markup=keyboard)                         \n"
   ]
  },
  {
   "cell_type": "markdown",
   "metadata": {},
   "source": [
    "Функция help: для напоминания правил игры! Снова предлагаем играть :))))"
   ]
  },
  {
   "cell_type": "code",
   "execution_count": 561,
   "metadata": {},
   "outputs": [],
   "source": [
    "@bot.message_handler(commands=['help']) \n",
    "def helping(message):\n",
    "    bot.send_message(message.from_user.id, emoji.emojize(\"Напоминаю правила игры! \"\n",
    "                                                         \"Я присылаю тебе два предложения.\"\n",
    "                                                         \" Одно из них -- из текстов Л.Н. Толстого. \"\n",
    "                                                         \"Второе -- сгенеированное компьютером. \"\n",
    "                                                         \"Ты должен угадать, какое предложение сгенерировано.\"))\n",
    "    \n",
    "    keyboard = types.InlineKeyboardMarkup()\n",
    "\n",
    "    # добавляем на нее кнопки\n",
    "    button = types.InlineKeyboardButton(text=\"Играем!\", callback_data=\"button\")\n",
    "    keyboard.add(button)\n",
    "\n",
    "    # отправляем сообщение пользователю\n",
    "    bot.send_message(message.chat.id, emoji.emojize(\"Нажми на кнопку, когда будешь готов к игре!\"), reply_markup=keyboard)"
   ]
  },
  {
   "cell_type": "markdown",
   "metadata": {},
   "source": [
    "Чтобы работало :)"
   ]
  },
  {
   "cell_type": "code",
   "execution_count": 562,
   "metadata": {
    "colab": {
     "base_uri": "https://localhost:8080/"
    },
    "id": "w0UyxwHGI6WY",
    "outputId": "d415f603-5a02-4159-c0a3-f36316ea6e9e"
   },
   "outputs": [
    {
     "name": "stderr",
     "output_type": "stream",
     "text": [
      "2024-03-26 16:38:24,074 (__init__.py:1027 MainThread) ERROR - TeleBot: \"Infinity polling: polling exited\"\n",
      "2024-03-26 16:38:24,075 (__init__.py:1029 MainThread) ERROR - TeleBot: \"Break infinity polling\"\n"
     ]
    },
    {
     "data": {
      "text/plain": [
       "<Figure size 640x480 with 0 Axes>"
      ]
     },
     "metadata": {},
     "output_type": "display_data"
    },
    {
     "data": {
      "text/plain": [
       "<Figure size 1000x600 with 0 Axes>"
      ]
     },
     "metadata": {},
     "output_type": "display_data"
    }
   ],
   "source": [
    "bot.infinity_polling()"
   ]
  }
 ],
 "metadata": {
  "colab": {
   "provenance": []
  },
  "kernelspec": {
   "display_name": "Python 3 (ipykernel)",
   "language": "python",
   "name": "python3"
  },
  "language_info": {
   "codemirror_mode": {
    "name": "ipython",
    "version": 3
   },
   "file_extension": ".py",
   "mimetype": "text/x-python",
   "name": "python",
   "nbconvert_exporter": "python",
   "pygments_lexer": "ipython3",
   "version": "3.10.9"
  },
  "widgets": {
   "application/vnd.jupyter.widget-state+json": {
    "053a045ea56c4a00ac340fbb8dbd6b28": {
     "model_module": "@jupyter-widgets/controls",
     "model_module_version": "1.5.0",
     "model_name": "HBoxModel",
     "state": {
      "_dom_classes": [],
      "_model_module": "@jupyter-widgets/controls",
      "_model_module_version": "1.5.0",
      "_model_name": "HBoxModel",
      "_view_count": null,
      "_view_module": "@jupyter-widgets/controls",
      "_view_module_version": "1.5.0",
      "_view_name": "HBoxView",
      "box_style": "",
      "children": [
       "IPY_MODEL_e196b4c93d6e4e6593b4c811305cb208",
       "IPY_MODEL_5db3b5749bad45f3abe5b3d82e1fc82c",
       "IPY_MODEL_3a0cc7eb9f9e4bd0b7b26b16c4bf64a9"
      ],
      "layout": "IPY_MODEL_bd3355322f634b219d032d1e19c26afa"
     }
    },
    "05ff36fb75c94e7583d88082950f14bc": {
     "model_module": "@jupyter-widgets/controls",
     "model_module_version": "1.5.0",
     "model_name": "HBoxModel",
     "state": {
      "_dom_classes": [],
      "_model_module": "@jupyter-widgets/controls",
      "_model_module_version": "1.5.0",
      "_model_name": "HBoxModel",
      "_view_count": null,
      "_view_module": "@jupyter-widgets/controls",
      "_view_module_version": "1.5.0",
      "_view_name": "HBoxView",
      "box_style": "",
      "children": [
       "IPY_MODEL_4be75c31ce3a4a1fb419b5d02f358fb8",
       "IPY_MODEL_249e332ae639423bb0855beec8dfde4a",
       "IPY_MODEL_4db3dc0a96ac4947bcb21ec5b0c5f21a"
      ],
      "layout": "IPY_MODEL_f5951334987f46b2a1b49fc0a068f0ce"
     }
    },
    "08d9d62ccf1d48a2bd2c9e0205d81607": {
     "model_module": "@jupyter-widgets/controls",
     "model_module_version": "1.5.0",
     "model_name": "DescriptionStyleModel",
     "state": {
      "_model_module": "@jupyter-widgets/controls",
      "_model_module_version": "1.5.0",
      "_model_name": "DescriptionStyleModel",
      "_view_count": null,
      "_view_module": "@jupyter-widgets/base",
      "_view_module_version": "1.2.0",
      "_view_name": "StyleView",
      "description_width": ""
     }
    },
    "1385ed13cb084797aca3159b95e6d54e": {
     "model_module": "@jupyter-widgets/base",
     "model_module_version": "1.2.0",
     "model_name": "LayoutModel",
     "state": {
      "_model_module": "@jupyter-widgets/base",
      "_model_module_version": "1.2.0",
      "_model_name": "LayoutModel",
      "_view_count": null,
      "_view_module": "@jupyter-widgets/base",
      "_view_module_version": "1.2.0",
      "_view_name": "LayoutView",
      "align_content": null,
      "align_items": null,
      "align_self": null,
      "border": null,
      "bottom": null,
      "display": null,
      "flex": null,
      "flex_flow": null,
      "grid_area": null,
      "grid_auto_columns": null,
      "grid_auto_flow": null,
      "grid_auto_rows": null,
      "grid_column": null,
      "grid_gap": null,
      "grid_row": null,
      "grid_template_areas": null,
      "grid_template_columns": null,
      "grid_template_rows": null,
      "height": null,
      "justify_content": null,
      "justify_items": null,
      "left": null,
      "margin": null,
      "max_height": null,
      "max_width": null,
      "min_height": null,
      "min_width": null,
      "object_fit": null,
      "object_position": null,
      "order": null,
      "overflow": null,
      "overflow_x": null,
      "overflow_y": null,
      "padding": null,
      "right": null,
      "top": null,
      "visibility": null,
      "width": null
     }
    },
    "15e8a7343da24f719f5f3ed3cd6e56fe": {
     "model_module": "@jupyter-widgets/base",
     "model_module_version": "1.2.0",
     "model_name": "LayoutModel",
     "state": {
      "_model_module": "@jupyter-widgets/base",
      "_model_module_version": "1.2.0",
      "_model_name": "LayoutModel",
      "_view_count": null,
      "_view_module": "@jupyter-widgets/base",
      "_view_module_version": "1.2.0",
      "_view_name": "LayoutView",
      "align_content": null,
      "align_items": null,
      "align_self": null,
      "border": null,
      "bottom": null,
      "display": null,
      "flex": null,
      "flex_flow": null,
      "grid_area": null,
      "grid_auto_columns": null,
      "grid_auto_flow": null,
      "grid_auto_rows": null,
      "grid_column": null,
      "grid_gap": null,
      "grid_row": null,
      "grid_template_areas": null,
      "grid_template_columns": null,
      "grid_template_rows": null,
      "height": null,
      "justify_content": null,
      "justify_items": null,
      "left": null,
      "margin": null,
      "max_height": null,
      "max_width": null,
      "min_height": null,
      "min_width": null,
      "object_fit": null,
      "object_position": null,
      "order": null,
      "overflow": null,
      "overflow_x": null,
      "overflow_y": null,
      "padding": null,
      "right": null,
      "top": null,
      "visibility": null,
      "width": null
     }
    },
    "1652be91ef8f43cd900c98f388303ec0": {
     "model_module": "@jupyter-widgets/controls",
     "model_module_version": "1.5.0",
     "model_name": "DescriptionStyleModel",
     "state": {
      "_model_module": "@jupyter-widgets/controls",
      "_model_module_version": "1.5.0",
      "_model_name": "DescriptionStyleModel",
      "_view_count": null,
      "_view_module": "@jupyter-widgets/base",
      "_view_module_version": "1.2.0",
      "_view_name": "StyleView",
      "description_width": ""
     }
    },
    "234b3e231cf344bd95e8e3fcd3b3b62d": {
     "model_module": "@jupyter-widgets/controls",
     "model_module_version": "1.5.0",
     "model_name": "DescriptionStyleModel",
     "state": {
      "_model_module": "@jupyter-widgets/controls",
      "_model_module_version": "1.5.0",
      "_model_name": "DescriptionStyleModel",
      "_view_count": null,
      "_view_module": "@jupyter-widgets/base",
      "_view_module_version": "1.2.0",
      "_view_name": "StyleView",
      "description_width": ""
     }
    },
    "23f4c7412148495aac136a17e1d80077": {
     "model_module": "@jupyter-widgets/controls",
     "model_module_version": "1.5.0",
     "model_name": "DescriptionStyleModel",
     "state": {
      "_model_module": "@jupyter-widgets/controls",
      "_model_module_version": "1.5.0",
      "_model_name": "DescriptionStyleModel",
      "_view_count": null,
      "_view_module": "@jupyter-widgets/base",
      "_view_module_version": "1.2.0",
      "_view_name": "StyleView",
      "description_width": ""
     }
    },
    "249e332ae639423bb0855beec8dfde4a": {
     "model_module": "@jupyter-widgets/controls",
     "model_module_version": "1.5.0",
     "model_name": "FloatProgressModel",
     "state": {
      "_dom_classes": [],
      "_model_module": "@jupyter-widgets/controls",
      "_model_module_version": "1.5.0",
      "_model_name": "FloatProgressModel",
      "_view_count": null,
      "_view_module": "@jupyter-widgets/controls",
      "_view_module_version": "1.5.0",
      "_view_name": "ProgressView",
      "bar_style": "success",
      "description": "",
      "description_tooltip": null,
      "layout": "IPY_MODEL_a1e6e0b79d784da7b6ec63e2528c2e4d",
      "max": 1252,
      "min": 0,
      "orientation": "horizontal",
      "style": "IPY_MODEL_3155ef46daa4497ea58b6b56c8522275",
      "value": 1252
     }
    },
    "254649d24a904adc974fe74aa78b1bc9": {
     "model_module": "@jupyter-widgets/controls",
     "model_module_version": "1.5.0",
     "model_name": "DescriptionStyleModel",
     "state": {
      "_model_module": "@jupyter-widgets/controls",
      "_model_module_version": "1.5.0",
      "_model_name": "DescriptionStyleModel",
      "_view_count": null,
      "_view_module": "@jupyter-widgets/base",
      "_view_module_version": "1.2.0",
      "_view_name": "StyleView",
      "description_width": ""
     }
    },
    "283a45d3202c44b1a3ca76a8e1221884": {
     "model_module": "@jupyter-widgets/base",
     "model_module_version": "1.2.0",
     "model_name": "LayoutModel",
     "state": {
      "_model_module": "@jupyter-widgets/base",
      "_model_module_version": "1.2.0",
      "_model_name": "LayoutModel",
      "_view_count": null,
      "_view_module": "@jupyter-widgets/base",
      "_view_module_version": "1.2.0",
      "_view_name": "LayoutView",
      "align_content": null,
      "align_items": null,
      "align_self": null,
      "border": null,
      "bottom": null,
      "display": null,
      "flex": null,
      "flex_flow": null,
      "grid_area": null,
      "grid_auto_columns": null,
      "grid_auto_flow": null,
      "grid_auto_rows": null,
      "grid_column": null,
      "grid_gap": null,
      "grid_row": null,
      "grid_template_areas": null,
      "grid_template_columns": null,
      "grid_template_rows": null,
      "height": null,
      "justify_content": null,
      "justify_items": null,
      "left": null,
      "margin": null,
      "max_height": null,
      "max_width": null,
      "min_height": null,
      "min_width": null,
      "object_fit": null,
      "object_position": null,
      "order": null,
      "overflow": null,
      "overflow_x": null,
      "overflow_y": null,
      "padding": null,
      "right": null,
      "top": null,
      "visibility": null,
      "width": null
     }
    },
    "2c85bd66c7a24de19088100ef081280e": {
     "model_module": "@jupyter-widgets/controls",
     "model_module_version": "1.5.0",
     "model_name": "HTMLModel",
     "state": {
      "_dom_classes": [],
      "_model_module": "@jupyter-widgets/controls",
      "_model_module_version": "1.5.0",
      "_model_name": "HTMLModel",
      "_view_count": null,
      "_view_module": "@jupyter-widgets/controls",
      "_view_module_version": "1.5.0",
      "_view_name": "HTMLView",
      "description": "",
      "description_tooltip": null,
      "layout": "IPY_MODEL_4a7a7f60fbe94b11961d421c3dcdb4fe",
      "placeholder": "​",
      "style": "IPY_MODEL_234b3e231cf344bd95e8e3fcd3b3b62d",
      "value": "vocab.json: 100%"
     }
    },
    "3155ef46daa4497ea58b6b56c8522275": {
     "model_module": "@jupyter-widgets/controls",
     "model_module_version": "1.5.0",
     "model_name": "ProgressStyleModel",
     "state": {
      "_model_module": "@jupyter-widgets/controls",
      "_model_module_version": "1.5.0",
      "_model_name": "ProgressStyleModel",
      "_view_count": null,
      "_view_module": "@jupyter-widgets/base",
      "_view_module_version": "1.2.0",
      "_view_name": "StyleView",
      "bar_color": null,
      "description_width": ""
     }
    },
    "319dae33a8e1466ea88e186283b970a4": {
     "model_module": "@jupyter-widgets/controls",
     "model_module_version": "1.5.0",
     "model_name": "ProgressStyleModel",
     "state": {
      "_model_module": "@jupyter-widgets/controls",
      "_model_module_version": "1.5.0",
      "_model_name": "ProgressStyleModel",
      "_view_count": null,
      "_view_module": "@jupyter-widgets/base",
      "_view_module_version": "1.2.0",
      "_view_name": "StyleView",
      "bar_color": null,
      "description_width": ""
     }
    },
    "337dee1d64ad4936b7b431541778ac91": {
     "model_module": "@jupyter-widgets/controls",
     "model_module_version": "1.5.0",
     "model_name": "HTMLModel",
     "state": {
      "_dom_classes": [],
      "_model_module": "@jupyter-widgets/controls",
      "_model_module_version": "1.5.0",
      "_model_name": "HTMLModel",
      "_view_count": null,
      "_view_module": "@jupyter-widgets/controls",
      "_view_module_version": "1.5.0",
      "_view_name": "HTMLView",
      "description": "",
      "description_tooltip": null,
      "layout": "IPY_MODEL_d8b3347f2308458f9d8a92602a5415bf",
      "placeholder": "​",
      "style": "IPY_MODEL_23f4c7412148495aac136a17e1d80077",
      "value": "special_tokens_map.json: 100%"
     }
    },
    "3a0cc7eb9f9e4bd0b7b26b16c4bf64a9": {
     "model_module": "@jupyter-widgets/controls",
     "model_module_version": "1.5.0",
     "model_name": "HTMLModel",
     "state": {
      "_dom_classes": [],
      "_model_module": "@jupyter-widgets/controls",
      "_model_module_version": "1.5.0",
      "_model_name": "HTMLModel",
      "_view_count": null,
      "_view_module": "@jupyter-widgets/controls",
      "_view_module_version": "1.5.0",
      "_view_name": "HTMLView",
      "description": "",
      "description_tooltip": null,
      "layout": "IPY_MODEL_1385ed13cb084797aca3159b95e6d54e",
      "placeholder": "​",
      "style": "IPY_MODEL_08d9d62ccf1d48a2bd2c9e0205d81607",
      "value": " 622/622 [00:00&lt;00:00, 31.3kB/s]"
     }
    },
    "3df333691a9b49d3900d0ab894d7bd74": {
     "model_module": "@jupyter-widgets/base",
     "model_module_version": "1.2.0",
     "model_name": "LayoutModel",
     "state": {
      "_model_module": "@jupyter-widgets/base",
      "_model_module_version": "1.2.0",
      "_model_name": "LayoutModel",
      "_view_count": null,
      "_view_module": "@jupyter-widgets/base",
      "_view_module_version": "1.2.0",
      "_view_name": "LayoutView",
      "align_content": null,
      "align_items": null,
      "align_self": null,
      "border": null,
      "bottom": null,
      "display": null,
      "flex": null,
      "flex_flow": null,
      "grid_area": null,
      "grid_auto_columns": null,
      "grid_auto_flow": null,
      "grid_auto_rows": null,
      "grid_column": null,
      "grid_gap": null,
      "grid_row": null,
      "grid_template_areas": null,
      "grid_template_columns": null,
      "grid_template_rows": null,
      "height": null,
      "justify_content": null,
      "justify_items": null,
      "left": null,
      "margin": null,
      "max_height": null,
      "max_width": null,
      "min_height": null,
      "min_width": null,
      "object_fit": null,
      "object_position": null,
      "order": null,
      "overflow": null,
      "overflow_x": null,
      "overflow_y": null,
      "padding": null,
      "right": null,
      "top": null,
      "visibility": null,
      "width": null
     }
    },
    "45468fd21b624f5b939b188378d8b49a": {
     "model_module": "@jupyter-widgets/controls",
     "model_module_version": "1.5.0",
     "model_name": "HBoxModel",
     "state": {
      "_dom_classes": [],
      "_model_module": "@jupyter-widgets/controls",
      "_model_module_version": "1.5.0",
      "_model_name": "HBoxModel",
      "_view_count": null,
      "_view_module": "@jupyter-widgets/controls",
      "_view_module_version": "1.5.0",
      "_view_name": "HBoxView",
      "box_style": "",
      "children": [
       "IPY_MODEL_9ea8bd5916ab4a9d9d366e0bf9a25f30",
       "IPY_MODEL_49ed9a724b8e4670936fb1fb797d2e98",
       "IPY_MODEL_659631183c614249a7d045bbc557a5eb"
      ],
      "layout": "IPY_MODEL_be35f0c9d3df42d7a216d9b8873a05a1"
     }
    },
    "49daa11df80348eea25921b2f90e7863": {
     "model_module": "@jupyter-widgets/controls",
     "model_module_version": "1.5.0",
     "model_name": "ProgressStyleModel",
     "state": {
      "_model_module": "@jupyter-widgets/controls",
      "_model_module_version": "1.5.0",
      "_model_name": "ProgressStyleModel",
      "_view_count": null,
      "_view_module": "@jupyter-widgets/base",
      "_view_module_version": "1.2.0",
      "_view_name": "StyleView",
      "bar_color": null,
      "description_width": ""
     }
    },
    "49ed9a724b8e4670936fb1fb797d2e98": {
     "model_module": "@jupyter-widgets/controls",
     "model_module_version": "1.5.0",
     "model_name": "FloatProgressModel",
     "state": {
      "_dom_classes": [],
      "_model_module": "@jupyter-widgets/controls",
      "_model_module_version": "1.5.0",
      "_model_name": "FloatProgressModel",
      "_view_count": null,
      "_view_module": "@jupyter-widgets/controls",
      "_view_module_version": "1.5.0",
      "_view_name": "ProgressView",
      "bar_style": "success",
      "description": "",
      "description_tooltip": null,
      "layout": "IPY_MODEL_4dd38f6f4ca84317b0627879d2027837",
      "max": 1270925,
      "min": 0,
      "orientation": "horizontal",
      "style": "IPY_MODEL_98d2af61fadf4a38a620d8c6b88b13dc",
      "value": 1270925
     }
    },
    "4a7a7f60fbe94b11961d421c3dcdb4fe": {
     "model_module": "@jupyter-widgets/base",
     "model_module_version": "1.2.0",
     "model_name": "LayoutModel",
     "state": {
      "_model_module": "@jupyter-widgets/base",
      "_model_module_version": "1.2.0",
      "_model_name": "LayoutModel",
      "_view_count": null,
      "_view_module": "@jupyter-widgets/base",
      "_view_module_version": "1.2.0",
      "_view_name": "LayoutView",
      "align_content": null,
      "align_items": null,
      "align_self": null,
      "border": null,
      "bottom": null,
      "display": null,
      "flex": null,
      "flex_flow": null,
      "grid_area": null,
      "grid_auto_columns": null,
      "grid_auto_flow": null,
      "grid_auto_rows": null,
      "grid_column": null,
      "grid_gap": null,
      "grid_row": null,
      "grid_template_areas": null,
      "grid_template_columns": null,
      "grid_template_rows": null,
      "height": null,
      "justify_content": null,
      "justify_items": null,
      "left": null,
      "margin": null,
      "max_height": null,
      "max_width": null,
      "min_height": null,
      "min_width": null,
      "object_fit": null,
      "object_position": null,
      "order": null,
      "overflow": null,
      "overflow_x": null,
      "overflow_y": null,
      "padding": null,
      "right": null,
      "top": null,
      "visibility": null,
      "width": null
     }
    },
    "4be75c31ce3a4a1fb419b5d02f358fb8": {
     "model_module": "@jupyter-widgets/controls",
     "model_module_version": "1.5.0",
     "model_name": "HTMLModel",
     "state": {
      "_dom_classes": [],
      "_model_module": "@jupyter-widgets/controls",
      "_model_module_version": "1.5.0",
      "_model_name": "HTMLModel",
      "_view_count": null,
      "_view_module": "@jupyter-widgets/controls",
      "_view_module_version": "1.5.0",
      "_view_name": "HTMLView",
      "description": "",
      "description_tooltip": null,
      "layout": "IPY_MODEL_283a45d3202c44b1a3ca76a8e1221884",
      "placeholder": "​",
      "style": "IPY_MODEL_8d9148b9e7d44d12a3316936ad671153",
      "value": "tokenizer_config.json: 100%"
     }
    },
    "4db3dc0a96ac4947bcb21ec5b0c5f21a": {
     "model_module": "@jupyter-widgets/controls",
     "model_module_version": "1.5.0",
     "model_name": "HTMLModel",
     "state": {
      "_dom_classes": [],
      "_model_module": "@jupyter-widgets/controls",
      "_model_module_version": "1.5.0",
      "_model_name": "HTMLModel",
      "_view_count": null,
      "_view_module": "@jupyter-widgets/controls",
      "_view_module_version": "1.5.0",
      "_view_name": "HTMLView",
      "description": "",
      "description_tooltip": null,
      "layout": "IPY_MODEL_945c9338b305469cb4dbe7959f13bb1c",
      "placeholder": "​",
      "style": "IPY_MODEL_e7d2703432d8414e956f126a79586ef5",
      "value": " 1.25k/1.25k [00:00&lt;00:00, 77.0kB/s]"
     }
    },
    "4dd38f6f4ca84317b0627879d2027837": {
     "model_module": "@jupyter-widgets/base",
     "model_module_version": "1.2.0",
     "model_name": "LayoutModel",
     "state": {
      "_model_module": "@jupyter-widgets/base",
      "_model_module_version": "1.2.0",
      "_model_name": "LayoutModel",
      "_view_count": null,
      "_view_module": "@jupyter-widgets/base",
      "_view_module_version": "1.2.0",
      "_view_name": "LayoutView",
      "align_content": null,
      "align_items": null,
      "align_self": null,
      "border": null,
      "bottom": null,
      "display": null,
      "flex": null,
      "flex_flow": null,
      "grid_area": null,
      "grid_auto_columns": null,
      "grid_auto_flow": null,
      "grid_auto_rows": null,
      "grid_column": null,
      "grid_gap": null,
      "grid_row": null,
      "grid_template_areas": null,
      "grid_template_columns": null,
      "grid_template_rows": null,
      "height": null,
      "justify_content": null,
      "justify_items": null,
      "left": null,
      "margin": null,
      "max_height": null,
      "max_width": null,
      "min_height": null,
      "min_width": null,
      "object_fit": null,
      "object_position": null,
      "order": null,
      "overflow": null,
      "overflow_x": null,
      "overflow_y": null,
      "padding": null,
      "right": null,
      "top": null,
      "visibility": null,
      "width": null
     }
    },
    "4f7e28962b7445bb80c39fe72ad6558c": {
     "model_module": "@jupyter-widgets/base",
     "model_module_version": "1.2.0",
     "model_name": "LayoutModel",
     "state": {
      "_model_module": "@jupyter-widgets/base",
      "_model_module_version": "1.2.0",
      "_model_name": "LayoutModel",
      "_view_count": null,
      "_view_module": "@jupyter-widgets/base",
      "_view_module_version": "1.2.0",
      "_view_name": "LayoutView",
      "align_content": null,
      "align_items": null,
      "align_self": null,
      "border": null,
      "bottom": null,
      "display": null,
      "flex": null,
      "flex_flow": null,
      "grid_area": null,
      "grid_auto_columns": null,
      "grid_auto_flow": null,
      "grid_auto_rows": null,
      "grid_column": null,
      "grid_gap": null,
      "grid_row": null,
      "grid_template_areas": null,
      "grid_template_columns": null,
      "grid_template_rows": null,
      "height": null,
      "justify_content": null,
      "justify_items": null,
      "left": null,
      "margin": null,
      "max_height": null,
      "max_width": null,
      "min_height": null,
      "min_width": null,
      "object_fit": null,
      "object_position": null,
      "order": null,
      "overflow": null,
      "overflow_x": null,
      "overflow_y": null,
      "padding": null,
      "right": null,
      "top": null,
      "visibility": null,
      "width": null
     }
    },
    "5719bab9585b4f79b76a289559f08533": {
     "model_module": "@jupyter-widgets/base",
     "model_module_version": "1.2.0",
     "model_name": "LayoutModel",
     "state": {
      "_model_module": "@jupyter-widgets/base",
      "_model_module_version": "1.2.0",
      "_model_name": "LayoutModel",
      "_view_count": null,
      "_view_module": "@jupyter-widgets/base",
      "_view_module_version": "1.2.0",
      "_view_name": "LayoutView",
      "align_content": null,
      "align_items": null,
      "align_self": null,
      "border": null,
      "bottom": null,
      "display": null,
      "flex": null,
      "flex_flow": null,
      "grid_area": null,
      "grid_auto_columns": null,
      "grid_auto_flow": null,
      "grid_auto_rows": null,
      "grid_column": null,
      "grid_gap": null,
      "grid_row": null,
      "grid_template_areas": null,
      "grid_template_columns": null,
      "grid_template_rows": null,
      "height": null,
      "justify_content": null,
      "justify_items": null,
      "left": null,
      "margin": null,
      "max_height": null,
      "max_width": null,
      "min_height": null,
      "min_width": null,
      "object_fit": null,
      "object_position": null,
      "order": null,
      "overflow": null,
      "overflow_x": null,
      "overflow_y": null,
      "padding": null,
      "right": null,
      "top": null,
      "visibility": null,
      "width": null
     }
    },
    "5db3b5749bad45f3abe5b3d82e1fc82c": {
     "model_module": "@jupyter-widgets/controls",
     "model_module_version": "1.5.0",
     "model_name": "FloatProgressModel",
     "state": {
      "_dom_classes": [],
      "_model_module": "@jupyter-widgets/controls",
      "_model_module_version": "1.5.0",
      "_model_name": "FloatProgressModel",
      "_view_count": null,
      "_view_module": "@jupyter-widgets/controls",
      "_view_module_version": "1.5.0",
      "_view_name": "ProgressView",
      "bar_style": "success",
      "description": "",
      "description_tooltip": null,
      "layout": "IPY_MODEL_4f7e28962b7445bb80c39fe72ad6558c",
      "max": 622,
      "min": 0,
      "orientation": "horizontal",
      "style": "IPY_MODEL_7c20a3c844a14212b85f346ebd0dfd81",
      "value": 622
     }
    },
    "5de52826dec04e31991c4d19aa0e4826": {
     "model_module": "@jupyter-widgets/controls",
     "model_module_version": "1.5.0",
     "model_name": "HBoxModel",
     "state": {
      "_dom_classes": [],
      "_model_module": "@jupyter-widgets/controls",
      "_model_module_version": "1.5.0",
      "_model_name": "HBoxModel",
      "_view_count": null,
      "_view_module": "@jupyter-widgets/controls",
      "_view_module_version": "1.5.0",
      "_view_name": "HBoxView",
      "box_style": "",
      "children": [
       "IPY_MODEL_337dee1d64ad4936b7b431541778ac91",
       "IPY_MODEL_f6b18fe4b913469ebb8c07f68b1ff7fd",
       "IPY_MODEL_a632b48ad734469080f4b49ac819bcfd"
      ],
      "layout": "IPY_MODEL_d129b69ec16945ba8ad2d31e6711daff"
     }
    },
    "61f4a9f393384c9c9fc54c865ab9e7ef": {
     "model_module": "@jupyter-widgets/base",
     "model_module_version": "1.2.0",
     "model_name": "LayoutModel",
     "state": {
      "_model_module": "@jupyter-widgets/base",
      "_model_module_version": "1.2.0",
      "_model_name": "LayoutModel",
      "_view_count": null,
      "_view_module": "@jupyter-widgets/base",
      "_view_module_version": "1.2.0",
      "_view_name": "LayoutView",
      "align_content": null,
      "align_items": null,
      "align_self": null,
      "border": null,
      "bottom": null,
      "display": null,
      "flex": null,
      "flex_flow": null,
      "grid_area": null,
      "grid_auto_columns": null,
      "grid_auto_flow": null,
      "grid_auto_rows": null,
      "grid_column": null,
      "grid_gap": null,
      "grid_row": null,
      "grid_template_areas": null,
      "grid_template_columns": null,
      "grid_template_rows": null,
      "height": null,
      "justify_content": null,
      "justify_items": null,
      "left": null,
      "margin": null,
      "max_height": null,
      "max_width": null,
      "min_height": null,
      "min_width": null,
      "object_fit": null,
      "object_position": null,
      "order": null,
      "overflow": null,
      "overflow_x": null,
      "overflow_y": null,
      "padding": null,
      "right": null,
      "top": null,
      "visibility": null,
      "width": null
     }
    },
    "659631183c614249a7d045bbc557a5eb": {
     "model_module": "@jupyter-widgets/controls",
     "model_module_version": "1.5.0",
     "model_name": "HTMLModel",
     "state": {
      "_dom_classes": [],
      "_model_module": "@jupyter-widgets/controls",
      "_model_module_version": "1.5.0",
      "_model_name": "HTMLModel",
      "_view_count": null,
      "_view_module": "@jupyter-widgets/controls",
      "_view_module_version": "1.5.0",
      "_view_name": "HTMLView",
      "description": "",
      "description_tooltip": null,
      "layout": "IPY_MODEL_d82777f920514ec88bcb53dbe4d9d3c5",
      "placeholder": "​",
      "style": "IPY_MODEL_6cf01460183e4a8cb26f029b1c0b7018",
      "value": " 1.27M/1.27M [00:00&lt;00:00, 36.0MB/s]"
     }
    },
    "6cf01460183e4a8cb26f029b1c0b7018": {
     "model_module": "@jupyter-widgets/controls",
     "model_module_version": "1.5.0",
     "model_name": "DescriptionStyleModel",
     "state": {
      "_model_module": "@jupyter-widgets/controls",
      "_model_module_version": "1.5.0",
      "_model_name": "DescriptionStyleModel",
      "_view_count": null,
      "_view_module": "@jupyter-widgets/base",
      "_view_module_version": "1.2.0",
      "_view_name": "StyleView",
      "description_width": ""
     }
    },
    "751b287928824341aea637547a11a6fb": {
     "model_module": "@jupyter-widgets/controls",
     "model_module_version": "1.5.0",
     "model_name": "DescriptionStyleModel",
     "state": {
      "_model_module": "@jupyter-widgets/controls",
      "_model_module_version": "1.5.0",
      "_model_name": "DescriptionStyleModel",
      "_view_count": null,
      "_view_module": "@jupyter-widgets/base",
      "_view_module_version": "1.2.0",
      "_view_name": "StyleView",
      "description_width": ""
     }
    },
    "7a65d3350d8645fbaac0ef30196a7247": {
     "model_module": "@jupyter-widgets/controls",
     "model_module_version": "1.5.0",
     "model_name": "DescriptionStyleModel",
     "state": {
      "_model_module": "@jupyter-widgets/controls",
      "_model_module_version": "1.5.0",
      "_model_name": "DescriptionStyleModel",
      "_view_count": null,
      "_view_module": "@jupyter-widgets/base",
      "_view_module_version": "1.2.0",
      "_view_name": "StyleView",
      "description_width": ""
     }
    },
    "7bc7e7f76f214ed6ae4cc1e211436d2d": {
     "model_module": "@jupyter-widgets/controls",
     "model_module_version": "1.5.0",
     "model_name": "FloatProgressModel",
     "state": {
      "_dom_classes": [],
      "_model_module": "@jupyter-widgets/controls",
      "_model_module_version": "1.5.0",
      "_model_name": "FloatProgressModel",
      "_view_count": null,
      "_view_module": "@jupyter-widgets/controls",
      "_view_module_version": "1.5.0",
      "_view_name": "ProgressView",
      "bar_style": "success",
      "description": "",
      "description_tooltip": null,
      "layout": "IPY_MODEL_fc699278ecf34cbe9eb1c885d277dc2b",
      "max": 3141928084,
      "min": 0,
      "orientation": "horizontal",
      "style": "IPY_MODEL_49daa11df80348eea25921b2f90e7863",
      "value": 3141928084
     }
    },
    "7c20a3c844a14212b85f346ebd0dfd81": {
     "model_module": "@jupyter-widgets/controls",
     "model_module_version": "1.5.0",
     "model_name": "ProgressStyleModel",
     "state": {
      "_model_module": "@jupyter-widgets/controls",
      "_model_module_version": "1.5.0",
      "_model_name": "ProgressStyleModel",
      "_view_count": null,
      "_view_module": "@jupyter-widgets/base",
      "_view_module_version": "1.2.0",
      "_view_name": "StyleView",
      "bar_color": null,
      "description_width": ""
     }
    },
    "7f586728b83a4717b67e87f2eb311682": {
     "model_module": "@jupyter-widgets/base",
     "model_module_version": "1.2.0",
     "model_name": "LayoutModel",
     "state": {
      "_model_module": "@jupyter-widgets/base",
      "_model_module_version": "1.2.0",
      "_model_name": "LayoutModel",
      "_view_count": null,
      "_view_module": "@jupyter-widgets/base",
      "_view_module_version": "1.2.0",
      "_view_name": "LayoutView",
      "align_content": null,
      "align_items": null,
      "align_self": null,
      "border": null,
      "bottom": null,
      "display": null,
      "flex": null,
      "flex_flow": null,
      "grid_area": null,
      "grid_auto_columns": null,
      "grid_auto_flow": null,
      "grid_auto_rows": null,
      "grid_column": null,
      "grid_gap": null,
      "grid_row": null,
      "grid_template_areas": null,
      "grid_template_columns": null,
      "grid_template_rows": null,
      "height": null,
      "justify_content": null,
      "justify_items": null,
      "left": null,
      "margin": null,
      "max_height": null,
      "max_width": null,
      "min_height": null,
      "min_width": null,
      "object_fit": null,
      "object_position": null,
      "order": null,
      "overflow": null,
      "overflow_x": null,
      "overflow_y": null,
      "padding": null,
      "right": null,
      "top": null,
      "visibility": null,
      "width": null
     }
    },
    "803968a83d6f41daaa39bc84383e7d9f": {
     "model_module": "@jupyter-widgets/controls",
     "model_module_version": "1.5.0",
     "model_name": "HTMLModel",
     "state": {
      "_dom_classes": [],
      "_model_module": "@jupyter-widgets/controls",
      "_model_module_version": "1.5.0",
      "_model_name": "HTMLModel",
      "_view_count": null,
      "_view_module": "@jupyter-widgets/controls",
      "_view_module_version": "1.5.0",
      "_view_name": "HTMLView",
      "description": "",
      "description_tooltip": null,
      "layout": "IPY_MODEL_61f4a9f393384c9c9fc54c865ab9e7ef",
      "placeholder": "​",
      "style": "IPY_MODEL_e5617367f30a4ee0a3fa678a220d09e0",
      "value": " 3.14G/3.14G [01:18&lt;00:00, 51.9MB/s]"
     }
    },
    "8864cd1b07b84dee9fd2d3fa190ed762": {
     "model_module": "@jupyter-widgets/base",
     "model_module_version": "1.2.0",
     "model_name": "LayoutModel",
     "state": {
      "_model_module": "@jupyter-widgets/base",
      "_model_module_version": "1.2.0",
      "_model_name": "LayoutModel",
      "_view_count": null,
      "_view_module": "@jupyter-widgets/base",
      "_view_module_version": "1.2.0",
      "_view_name": "LayoutView",
      "align_content": null,
      "align_items": null,
      "align_self": null,
      "border": null,
      "bottom": null,
      "display": null,
      "flex": null,
      "flex_flow": null,
      "grid_area": null,
      "grid_auto_columns": null,
      "grid_auto_flow": null,
      "grid_auto_rows": null,
      "grid_column": null,
      "grid_gap": null,
      "grid_row": null,
      "grid_template_areas": null,
      "grid_template_columns": null,
      "grid_template_rows": null,
      "height": null,
      "justify_content": null,
      "justify_items": null,
      "left": null,
      "margin": null,
      "max_height": null,
      "max_width": null,
      "min_height": null,
      "min_width": null,
      "object_fit": null,
      "object_position": null,
      "order": null,
      "overflow": null,
      "overflow_x": null,
      "overflow_y": null,
      "padding": null,
      "right": null,
      "top": null,
      "visibility": null,
      "width": null
     }
    },
    "8d9148b9e7d44d12a3316936ad671153": {
     "model_module": "@jupyter-widgets/controls",
     "model_module_version": "1.5.0",
     "model_name": "DescriptionStyleModel",
     "state": {
      "_model_module": "@jupyter-widgets/controls",
      "_model_module_version": "1.5.0",
      "_model_name": "DescriptionStyleModel",
      "_view_count": null,
      "_view_module": "@jupyter-widgets/base",
      "_view_module_version": "1.2.0",
      "_view_name": "StyleView",
      "description_width": ""
     }
    },
    "945c9338b305469cb4dbe7959f13bb1c": {
     "model_module": "@jupyter-widgets/base",
     "model_module_version": "1.2.0",
     "model_name": "LayoutModel",
     "state": {
      "_model_module": "@jupyter-widgets/base",
      "_model_module_version": "1.2.0",
      "_model_name": "LayoutModel",
      "_view_count": null,
      "_view_module": "@jupyter-widgets/base",
      "_view_module_version": "1.2.0",
      "_view_name": "LayoutView",
      "align_content": null,
      "align_items": null,
      "align_self": null,
      "border": null,
      "bottom": null,
      "display": null,
      "flex": null,
      "flex_flow": null,
      "grid_area": null,
      "grid_auto_columns": null,
      "grid_auto_flow": null,
      "grid_auto_rows": null,
      "grid_column": null,
      "grid_gap": null,
      "grid_row": null,
      "grid_template_areas": null,
      "grid_template_columns": null,
      "grid_template_rows": null,
      "height": null,
      "justify_content": null,
      "justify_items": null,
      "left": null,
      "margin": null,
      "max_height": null,
      "max_width": null,
      "min_height": null,
      "min_width": null,
      "object_fit": null,
      "object_position": null,
      "order": null,
      "overflow": null,
      "overflow_x": null,
      "overflow_y": null,
      "padding": null,
      "right": null,
      "top": null,
      "visibility": null,
      "width": null
     }
    },
    "98d2af61fadf4a38a620d8c6b88b13dc": {
     "model_module": "@jupyter-widgets/controls",
     "model_module_version": "1.5.0",
     "model_name": "ProgressStyleModel",
     "state": {
      "_model_module": "@jupyter-widgets/controls",
      "_model_module_version": "1.5.0",
      "_model_name": "ProgressStyleModel",
      "_view_count": null,
      "_view_module": "@jupyter-widgets/base",
      "_view_module_version": "1.2.0",
      "_view_name": "StyleView",
      "bar_color": null,
      "description_width": ""
     }
    },
    "99196024d9c84e39878de94721071870": {
     "model_module": "@jupyter-widgets/base",
     "model_module_version": "1.2.0",
     "model_name": "LayoutModel",
     "state": {
      "_model_module": "@jupyter-widgets/base",
      "_model_module_version": "1.2.0",
      "_model_name": "LayoutModel",
      "_view_count": null,
      "_view_module": "@jupyter-widgets/base",
      "_view_module_version": "1.2.0",
      "_view_name": "LayoutView",
      "align_content": null,
      "align_items": null,
      "align_self": null,
      "border": null,
      "bottom": null,
      "display": null,
      "flex": null,
      "flex_flow": null,
      "grid_area": null,
      "grid_auto_columns": null,
      "grid_auto_flow": null,
      "grid_auto_rows": null,
      "grid_column": null,
      "grid_gap": null,
      "grid_row": null,
      "grid_template_areas": null,
      "grid_template_columns": null,
      "grid_template_rows": null,
      "height": null,
      "justify_content": null,
      "justify_items": null,
      "left": null,
      "margin": null,
      "max_height": null,
      "max_width": null,
      "min_height": null,
      "min_width": null,
      "object_fit": null,
      "object_position": null,
      "order": null,
      "overflow": null,
      "overflow_x": null,
      "overflow_y": null,
      "padding": null,
      "right": null,
      "top": null,
      "visibility": null,
      "width": null
     }
    },
    "9dd7208d9c534904a4ce123db2500bf9": {
     "model_module": "@jupyter-widgets/base",
     "model_module_version": "1.2.0",
     "model_name": "LayoutModel",
     "state": {
      "_model_module": "@jupyter-widgets/base",
      "_model_module_version": "1.2.0",
      "_model_name": "LayoutModel",
      "_view_count": null,
      "_view_module": "@jupyter-widgets/base",
      "_view_module_version": "1.2.0",
      "_view_name": "LayoutView",
      "align_content": null,
      "align_items": null,
      "align_self": null,
      "border": null,
      "bottom": null,
      "display": null,
      "flex": null,
      "flex_flow": null,
      "grid_area": null,
      "grid_auto_columns": null,
      "grid_auto_flow": null,
      "grid_auto_rows": null,
      "grid_column": null,
      "grid_gap": null,
      "grid_row": null,
      "grid_template_areas": null,
      "grid_template_columns": null,
      "grid_template_rows": null,
      "height": null,
      "justify_content": null,
      "justify_items": null,
      "left": null,
      "margin": null,
      "max_height": null,
      "max_width": null,
      "min_height": null,
      "min_width": null,
      "object_fit": null,
      "object_position": null,
      "order": null,
      "overflow": null,
      "overflow_x": null,
      "overflow_y": null,
      "padding": null,
      "right": null,
      "top": null,
      "visibility": null,
      "width": null
     }
    },
    "9ea8bd5916ab4a9d9d366e0bf9a25f30": {
     "model_module": "@jupyter-widgets/controls",
     "model_module_version": "1.5.0",
     "model_name": "HTMLModel",
     "state": {
      "_dom_classes": [],
      "_model_module": "@jupyter-widgets/controls",
      "_model_module_version": "1.5.0",
      "_model_name": "HTMLModel",
      "_view_count": null,
      "_view_module": "@jupyter-widgets/controls",
      "_view_module_version": "1.5.0",
      "_view_name": "HTMLView",
      "description": "",
      "description_tooltip": null,
      "layout": "IPY_MODEL_5719bab9585b4f79b76a289559f08533",
      "placeholder": "​",
      "style": "IPY_MODEL_1652be91ef8f43cd900c98f388303ec0",
      "value": "merges.txt: 100%"
     }
    },
    "a09b0d68f6064582985e478e4e015573": {
     "model_module": "@jupyter-widgets/controls",
     "model_module_version": "1.5.0",
     "model_name": "FloatProgressModel",
     "state": {
      "_dom_classes": [],
      "_model_module": "@jupyter-widgets/controls",
      "_model_module_version": "1.5.0",
      "_model_name": "FloatProgressModel",
      "_view_count": null,
      "_view_module": "@jupyter-widgets/controls",
      "_view_module_version": "1.5.0",
      "_view_name": "ProgressView",
      "bar_style": "success",
      "description": "",
      "description_tooltip": null,
      "layout": "IPY_MODEL_7f586728b83a4717b67e87f2eb311682",
      "max": 1713123,
      "min": 0,
      "orientation": "horizontal",
      "style": "IPY_MODEL_f322b76b57654c78a9d108f5007e961a",
      "value": 1713123
     }
    },
    "a1e6e0b79d784da7b6ec63e2528c2e4d": {
     "model_module": "@jupyter-widgets/base",
     "model_module_version": "1.2.0",
     "model_name": "LayoutModel",
     "state": {
      "_model_module": "@jupyter-widgets/base",
      "_model_module_version": "1.2.0",
      "_model_name": "LayoutModel",
      "_view_count": null,
      "_view_module": "@jupyter-widgets/base",
      "_view_module_version": "1.2.0",
      "_view_name": "LayoutView",
      "align_content": null,
      "align_items": null,
      "align_self": null,
      "border": null,
      "bottom": null,
      "display": null,
      "flex": null,
      "flex_flow": null,
      "grid_area": null,
      "grid_auto_columns": null,
      "grid_auto_flow": null,
      "grid_auto_rows": null,
      "grid_column": null,
      "grid_gap": null,
      "grid_row": null,
      "grid_template_areas": null,
      "grid_template_columns": null,
      "grid_template_rows": null,
      "height": null,
      "justify_content": null,
      "justify_items": null,
      "left": null,
      "margin": null,
      "max_height": null,
      "max_width": null,
      "min_height": null,
      "min_width": null,
      "object_fit": null,
      "object_position": null,
      "order": null,
      "overflow": null,
      "overflow_x": null,
      "overflow_y": null,
      "padding": null,
      "right": null,
      "top": null,
      "visibility": null,
      "width": null
     }
    },
    "a632b48ad734469080f4b49ac819bcfd": {
     "model_module": "@jupyter-widgets/controls",
     "model_module_version": "1.5.0",
     "model_name": "HTMLModel",
     "state": {
      "_dom_classes": [],
      "_model_module": "@jupyter-widgets/controls",
      "_model_module_version": "1.5.0",
      "_model_name": "HTMLModel",
      "_view_count": null,
      "_view_module": "@jupyter-widgets/controls",
      "_view_module_version": "1.5.0",
      "_view_name": "HTMLView",
      "description": "",
      "description_tooltip": null,
      "layout": "IPY_MODEL_8864cd1b07b84dee9fd2d3fa190ed762",
      "placeholder": "​",
      "style": "IPY_MODEL_254649d24a904adc974fe74aa78b1bc9",
      "value": " 574/574 [00:00&lt;00:00, 31.9kB/s]"
     }
    },
    "b007ee38fcfd45cf9210a9ca5047a46e": {
     "model_module": "@jupyter-widgets/controls",
     "model_module_version": "1.5.0",
     "model_name": "HTMLModel",
     "state": {
      "_dom_classes": [],
      "_model_module": "@jupyter-widgets/controls",
      "_model_module_version": "1.5.0",
      "_model_name": "HTMLModel",
      "_view_count": null,
      "_view_module": "@jupyter-widgets/controls",
      "_view_module_version": "1.5.0",
      "_view_name": "HTMLView",
      "description": "",
      "description_tooltip": null,
      "layout": "IPY_MODEL_99196024d9c84e39878de94721071870",
      "placeholder": "​",
      "style": "IPY_MODEL_751b287928824341aea637547a11a6fb",
      "value": "pytorch_model.bin: 100%"
     }
    },
    "b69273bf6c05480abc8e5cf2d63815af": {
     "model_module": "@jupyter-widgets/controls",
     "model_module_version": "1.5.0",
     "model_name": "DescriptionStyleModel",
     "state": {
      "_model_module": "@jupyter-widgets/controls",
      "_model_module_version": "1.5.0",
      "_model_name": "DescriptionStyleModel",
      "_view_count": null,
      "_view_module": "@jupyter-widgets/base",
      "_view_module_version": "1.2.0",
      "_view_name": "StyleView",
      "description_width": ""
     }
    },
    "bd3355322f634b219d032d1e19c26afa": {
     "model_module": "@jupyter-widgets/base",
     "model_module_version": "1.2.0",
     "model_name": "LayoutModel",
     "state": {
      "_model_module": "@jupyter-widgets/base",
      "_model_module_version": "1.2.0",
      "_model_name": "LayoutModel",
      "_view_count": null,
      "_view_module": "@jupyter-widgets/base",
      "_view_module_version": "1.2.0",
      "_view_name": "LayoutView",
      "align_content": null,
      "align_items": null,
      "align_self": null,
      "border": null,
      "bottom": null,
      "display": null,
      "flex": null,
      "flex_flow": null,
      "grid_area": null,
      "grid_auto_columns": null,
      "grid_auto_flow": null,
      "grid_auto_rows": null,
      "grid_column": null,
      "grid_gap": null,
      "grid_row": null,
      "grid_template_areas": null,
      "grid_template_columns": null,
      "grid_template_rows": null,
      "height": null,
      "justify_content": null,
      "justify_items": null,
      "left": null,
      "margin": null,
      "max_height": null,
      "max_width": null,
      "min_height": null,
      "min_width": null,
      "object_fit": null,
      "object_position": null,
      "order": null,
      "overflow": null,
      "overflow_x": null,
      "overflow_y": null,
      "padding": null,
      "right": null,
      "top": null,
      "visibility": null,
      "width": null
     }
    },
    "be35f0c9d3df42d7a216d9b8873a05a1": {
     "model_module": "@jupyter-widgets/base",
     "model_module_version": "1.2.0",
     "model_name": "LayoutModel",
     "state": {
      "_model_module": "@jupyter-widgets/base",
      "_model_module_version": "1.2.0",
      "_model_name": "LayoutModel",
      "_view_count": null,
      "_view_module": "@jupyter-widgets/base",
      "_view_module_version": "1.2.0",
      "_view_name": "LayoutView",
      "align_content": null,
      "align_items": null,
      "align_self": null,
      "border": null,
      "bottom": null,
      "display": null,
      "flex": null,
      "flex_flow": null,
      "grid_area": null,
      "grid_auto_columns": null,
      "grid_auto_flow": null,
      "grid_auto_rows": null,
      "grid_column": null,
      "grid_gap": null,
      "grid_row": null,
      "grid_template_areas": null,
      "grid_template_columns": null,
      "grid_template_rows": null,
      "height": null,
      "justify_content": null,
      "justify_items": null,
      "left": null,
      "margin": null,
      "max_height": null,
      "max_width": null,
      "min_height": null,
      "min_width": null,
      "object_fit": null,
      "object_position": null,
      "order": null,
      "overflow": null,
      "overflow_x": null,
      "overflow_y": null,
      "padding": null,
      "right": null,
      "top": null,
      "visibility": null,
      "width": null
     }
    },
    "d07cc82e83924dcaa3f4cc2100c2caef": {
     "model_module": "@jupyter-widgets/controls",
     "model_module_version": "1.5.0",
     "model_name": "HBoxModel",
     "state": {
      "_dom_classes": [],
      "_model_module": "@jupyter-widgets/controls",
      "_model_module_version": "1.5.0",
      "_model_name": "HBoxModel",
      "_view_count": null,
      "_view_module": "@jupyter-widgets/controls",
      "_view_module_version": "1.5.0",
      "_view_name": "HBoxView",
      "box_style": "",
      "children": [
       "IPY_MODEL_2c85bd66c7a24de19088100ef081280e",
       "IPY_MODEL_a09b0d68f6064582985e478e4e015573",
       "IPY_MODEL_f7d40f399387413a9acdfb67864f09dd"
      ],
      "layout": "IPY_MODEL_f8b6b31889374d0c8244f8e76d381bd0"
     }
    },
    "d129b69ec16945ba8ad2d31e6711daff": {
     "model_module": "@jupyter-widgets/base",
     "model_module_version": "1.2.0",
     "model_name": "LayoutModel",
     "state": {
      "_model_module": "@jupyter-widgets/base",
      "_model_module_version": "1.2.0",
      "_model_name": "LayoutModel",
      "_view_count": null,
      "_view_module": "@jupyter-widgets/base",
      "_view_module_version": "1.2.0",
      "_view_name": "LayoutView",
      "align_content": null,
      "align_items": null,
      "align_self": null,
      "border": null,
      "bottom": null,
      "display": null,
      "flex": null,
      "flex_flow": null,
      "grid_area": null,
      "grid_auto_columns": null,
      "grid_auto_flow": null,
      "grid_auto_rows": null,
      "grid_column": null,
      "grid_gap": null,
      "grid_row": null,
      "grid_template_areas": null,
      "grid_template_columns": null,
      "grid_template_rows": null,
      "height": null,
      "justify_content": null,
      "justify_items": null,
      "left": null,
      "margin": null,
      "max_height": null,
      "max_width": null,
      "min_height": null,
      "min_width": null,
      "object_fit": null,
      "object_position": null,
      "order": null,
      "overflow": null,
      "overflow_x": null,
      "overflow_y": null,
      "padding": null,
      "right": null,
      "top": null,
      "visibility": null,
      "width": null
     }
    },
    "d82777f920514ec88bcb53dbe4d9d3c5": {
     "model_module": "@jupyter-widgets/base",
     "model_module_version": "1.2.0",
     "model_name": "LayoutModel",
     "state": {
      "_model_module": "@jupyter-widgets/base",
      "_model_module_version": "1.2.0",
      "_model_name": "LayoutModel",
      "_view_count": null,
      "_view_module": "@jupyter-widgets/base",
      "_view_module_version": "1.2.0",
      "_view_name": "LayoutView",
      "align_content": null,
      "align_items": null,
      "align_self": null,
      "border": null,
      "bottom": null,
      "display": null,
      "flex": null,
      "flex_flow": null,
      "grid_area": null,
      "grid_auto_columns": null,
      "grid_auto_flow": null,
      "grid_auto_rows": null,
      "grid_column": null,
      "grid_gap": null,
      "grid_row": null,
      "grid_template_areas": null,
      "grid_template_columns": null,
      "grid_template_rows": null,
      "height": null,
      "justify_content": null,
      "justify_items": null,
      "left": null,
      "margin": null,
      "max_height": null,
      "max_width": null,
      "min_height": null,
      "min_width": null,
      "object_fit": null,
      "object_position": null,
      "order": null,
      "overflow": null,
      "overflow_x": null,
      "overflow_y": null,
      "padding": null,
      "right": null,
      "top": null,
      "visibility": null,
      "width": null
     }
    },
    "d8b3347f2308458f9d8a92602a5415bf": {
     "model_module": "@jupyter-widgets/base",
     "model_module_version": "1.2.0",
     "model_name": "LayoutModel",
     "state": {
      "_model_module": "@jupyter-widgets/base",
      "_model_module_version": "1.2.0",
      "_model_name": "LayoutModel",
      "_view_count": null,
      "_view_module": "@jupyter-widgets/base",
      "_view_module_version": "1.2.0",
      "_view_name": "LayoutView",
      "align_content": null,
      "align_items": null,
      "align_self": null,
      "border": null,
      "bottom": null,
      "display": null,
      "flex": null,
      "flex_flow": null,
      "grid_area": null,
      "grid_auto_columns": null,
      "grid_auto_flow": null,
      "grid_auto_rows": null,
      "grid_column": null,
      "grid_gap": null,
      "grid_row": null,
      "grid_template_areas": null,
      "grid_template_columns": null,
      "grid_template_rows": null,
      "height": null,
      "justify_content": null,
      "justify_items": null,
      "left": null,
      "margin": null,
      "max_height": null,
      "max_width": null,
      "min_height": null,
      "min_width": null,
      "object_fit": null,
      "object_position": null,
      "order": null,
      "overflow": null,
      "overflow_x": null,
      "overflow_y": null,
      "padding": null,
      "right": null,
      "top": null,
      "visibility": null,
      "width": null
     }
    },
    "e196b4c93d6e4e6593b4c811305cb208": {
     "model_module": "@jupyter-widgets/controls",
     "model_module_version": "1.5.0",
     "model_name": "HTMLModel",
     "state": {
      "_dom_classes": [],
      "_model_module": "@jupyter-widgets/controls",
      "_model_module_version": "1.5.0",
      "_model_name": "HTMLModel",
      "_view_count": null,
      "_view_module": "@jupyter-widgets/controls",
      "_view_module_version": "1.5.0",
      "_view_name": "HTMLView",
      "description": "",
      "description_tooltip": null,
      "layout": "IPY_MODEL_15e8a7343da24f719f5f3ed3cd6e56fe",
      "placeholder": "​",
      "style": "IPY_MODEL_b69273bf6c05480abc8e5cf2d63815af",
      "value": "config.json: 100%"
     }
    },
    "e355769e189640c495889f855be1cd81": {
     "model_module": "@jupyter-widgets/base",
     "model_module_version": "1.2.0",
     "model_name": "LayoutModel",
     "state": {
      "_model_module": "@jupyter-widgets/base",
      "_model_module_version": "1.2.0",
      "_model_name": "LayoutModel",
      "_view_count": null,
      "_view_module": "@jupyter-widgets/base",
      "_view_module_version": "1.2.0",
      "_view_name": "LayoutView",
      "align_content": null,
      "align_items": null,
      "align_self": null,
      "border": null,
      "bottom": null,
      "display": null,
      "flex": null,
      "flex_flow": null,
      "grid_area": null,
      "grid_auto_columns": null,
      "grid_auto_flow": null,
      "grid_auto_rows": null,
      "grid_column": null,
      "grid_gap": null,
      "grid_row": null,
      "grid_template_areas": null,
      "grid_template_columns": null,
      "grid_template_rows": null,
      "height": null,
      "justify_content": null,
      "justify_items": null,
      "left": null,
      "margin": null,
      "max_height": null,
      "max_width": null,
      "min_height": null,
      "min_width": null,
      "object_fit": null,
      "object_position": null,
      "order": null,
      "overflow": null,
      "overflow_x": null,
      "overflow_y": null,
      "padding": null,
      "right": null,
      "top": null,
      "visibility": null,
      "width": null
     }
    },
    "e560d23c97a34915ab0ba786aa92eff6": {
     "model_module": "@jupyter-widgets/controls",
     "model_module_version": "1.5.0",
     "model_name": "HBoxModel",
     "state": {
      "_dom_classes": [],
      "_model_module": "@jupyter-widgets/controls",
      "_model_module_version": "1.5.0",
      "_model_name": "HBoxModel",
      "_view_count": null,
      "_view_module": "@jupyter-widgets/controls",
      "_view_module_version": "1.5.0",
      "_view_name": "HBoxView",
      "box_style": "",
      "children": [
       "IPY_MODEL_b007ee38fcfd45cf9210a9ca5047a46e",
       "IPY_MODEL_7bc7e7f76f214ed6ae4cc1e211436d2d",
       "IPY_MODEL_803968a83d6f41daaa39bc84383e7d9f"
      ],
      "layout": "IPY_MODEL_9dd7208d9c534904a4ce123db2500bf9"
     }
    },
    "e5617367f30a4ee0a3fa678a220d09e0": {
     "model_module": "@jupyter-widgets/controls",
     "model_module_version": "1.5.0",
     "model_name": "DescriptionStyleModel",
     "state": {
      "_model_module": "@jupyter-widgets/controls",
      "_model_module_version": "1.5.0",
      "_model_name": "DescriptionStyleModel",
      "_view_count": null,
      "_view_module": "@jupyter-widgets/base",
      "_view_module_version": "1.2.0",
      "_view_name": "StyleView",
      "description_width": ""
     }
    },
    "e7d2703432d8414e956f126a79586ef5": {
     "model_module": "@jupyter-widgets/controls",
     "model_module_version": "1.5.0",
     "model_name": "DescriptionStyleModel",
     "state": {
      "_model_module": "@jupyter-widgets/controls",
      "_model_module_version": "1.5.0",
      "_model_name": "DescriptionStyleModel",
      "_view_count": null,
      "_view_module": "@jupyter-widgets/base",
      "_view_module_version": "1.2.0",
      "_view_name": "StyleView",
      "description_width": ""
     }
    },
    "f322b76b57654c78a9d108f5007e961a": {
     "model_module": "@jupyter-widgets/controls",
     "model_module_version": "1.5.0",
     "model_name": "ProgressStyleModel",
     "state": {
      "_model_module": "@jupyter-widgets/controls",
      "_model_module_version": "1.5.0",
      "_model_name": "ProgressStyleModel",
      "_view_count": null,
      "_view_module": "@jupyter-widgets/base",
      "_view_module_version": "1.2.0",
      "_view_name": "StyleView",
      "bar_color": null,
      "description_width": ""
     }
    },
    "f5951334987f46b2a1b49fc0a068f0ce": {
     "model_module": "@jupyter-widgets/base",
     "model_module_version": "1.2.0",
     "model_name": "LayoutModel",
     "state": {
      "_model_module": "@jupyter-widgets/base",
      "_model_module_version": "1.2.0",
      "_model_name": "LayoutModel",
      "_view_count": null,
      "_view_module": "@jupyter-widgets/base",
      "_view_module_version": "1.2.0",
      "_view_name": "LayoutView",
      "align_content": null,
      "align_items": null,
      "align_self": null,
      "border": null,
      "bottom": null,
      "display": null,
      "flex": null,
      "flex_flow": null,
      "grid_area": null,
      "grid_auto_columns": null,
      "grid_auto_flow": null,
      "grid_auto_rows": null,
      "grid_column": null,
      "grid_gap": null,
      "grid_row": null,
      "grid_template_areas": null,
      "grid_template_columns": null,
      "grid_template_rows": null,
      "height": null,
      "justify_content": null,
      "justify_items": null,
      "left": null,
      "margin": null,
      "max_height": null,
      "max_width": null,
      "min_height": null,
      "min_width": null,
      "object_fit": null,
      "object_position": null,
      "order": null,
      "overflow": null,
      "overflow_x": null,
      "overflow_y": null,
      "padding": null,
      "right": null,
      "top": null,
      "visibility": null,
      "width": null
     }
    },
    "f6b18fe4b913469ebb8c07f68b1ff7fd": {
     "model_module": "@jupyter-widgets/controls",
     "model_module_version": "1.5.0",
     "model_name": "FloatProgressModel",
     "state": {
      "_dom_classes": [],
      "_model_module": "@jupyter-widgets/controls",
      "_model_module_version": "1.5.0",
      "_model_name": "FloatProgressModel",
      "_view_count": null,
      "_view_module": "@jupyter-widgets/controls",
      "_view_module_version": "1.5.0",
      "_view_name": "ProgressView",
      "bar_style": "success",
      "description": "",
      "description_tooltip": null,
      "layout": "IPY_MODEL_3df333691a9b49d3900d0ab894d7bd74",
      "max": 574,
      "min": 0,
      "orientation": "horizontal",
      "style": "IPY_MODEL_319dae33a8e1466ea88e186283b970a4",
      "value": 574
     }
    },
    "f7d40f399387413a9acdfb67864f09dd": {
     "model_module": "@jupyter-widgets/controls",
     "model_module_version": "1.5.0",
     "model_name": "HTMLModel",
     "state": {
      "_dom_classes": [],
      "_model_module": "@jupyter-widgets/controls",
      "_model_module_version": "1.5.0",
      "_model_name": "HTMLModel",
      "_view_count": null,
      "_view_module": "@jupyter-widgets/controls",
      "_view_module_version": "1.5.0",
      "_view_name": "HTMLView",
      "description": "",
      "description_tooltip": null,
      "layout": "IPY_MODEL_e355769e189640c495889f855be1cd81",
      "placeholder": "​",
      "style": "IPY_MODEL_7a65d3350d8645fbaac0ef30196a7247",
      "value": " 1.71M/1.71M [00:00&lt;00:00, 8.30MB/s]"
     }
    },
    "f8b6b31889374d0c8244f8e76d381bd0": {
     "model_module": "@jupyter-widgets/base",
     "model_module_version": "1.2.0",
     "model_name": "LayoutModel",
     "state": {
      "_model_module": "@jupyter-widgets/base",
      "_model_module_version": "1.2.0",
      "_model_name": "LayoutModel",
      "_view_count": null,
      "_view_module": "@jupyter-widgets/base",
      "_view_module_version": "1.2.0",
      "_view_name": "LayoutView",
      "align_content": null,
      "align_items": null,
      "align_self": null,
      "border": null,
      "bottom": null,
      "display": null,
      "flex": null,
      "flex_flow": null,
      "grid_area": null,
      "grid_auto_columns": null,
      "grid_auto_flow": null,
      "grid_auto_rows": null,
      "grid_column": null,
      "grid_gap": null,
      "grid_row": null,
      "grid_template_areas": null,
      "grid_template_columns": null,
      "grid_template_rows": null,
      "height": null,
      "justify_content": null,
      "justify_items": null,
      "left": null,
      "margin": null,
      "max_height": null,
      "max_width": null,
      "min_height": null,
      "min_width": null,
      "object_fit": null,
      "object_position": null,
      "order": null,
      "overflow": null,
      "overflow_x": null,
      "overflow_y": null,
      "padding": null,
      "right": null,
      "top": null,
      "visibility": null,
      "width": null
     }
    },
    "fc699278ecf34cbe9eb1c885d277dc2b": {
     "model_module": "@jupyter-widgets/base",
     "model_module_version": "1.2.0",
     "model_name": "LayoutModel",
     "state": {
      "_model_module": "@jupyter-widgets/base",
      "_model_module_version": "1.2.0",
      "_model_name": "LayoutModel",
      "_view_count": null,
      "_view_module": "@jupyter-widgets/base",
      "_view_module_version": "1.2.0",
      "_view_name": "LayoutView",
      "align_content": null,
      "align_items": null,
      "align_self": null,
      "border": null,
      "bottom": null,
      "display": null,
      "flex": null,
      "flex_flow": null,
      "grid_area": null,
      "grid_auto_columns": null,
      "grid_auto_flow": null,
      "grid_auto_rows": null,
      "grid_column": null,
      "grid_gap": null,
      "grid_row": null,
      "grid_template_areas": null,
      "grid_template_columns": null,
      "grid_template_rows": null,
      "height": null,
      "justify_content": null,
      "justify_items": null,
      "left": null,
      "margin": null,
      "max_height": null,
      "max_width": null,
      "min_height": null,
      "min_width": null,
      "object_fit": null,
      "object_position": null,
      "order": null,
      "overflow": null,
      "overflow_x": null,
      "overflow_y": null,
      "padding": null,
      "right": null,
      "top": null,
      "visibility": null,
      "width": null
     }
    }
   }
  }
 },
 "nbformat": 4,
 "nbformat_minor": 1
}
